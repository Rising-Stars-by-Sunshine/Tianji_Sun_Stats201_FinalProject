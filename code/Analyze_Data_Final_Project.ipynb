{
 "cells": [
  {
   "cell_type": "markdown",
   "metadata": {
    "id": "l9imKZjqKbfQ"
   },
   "source": [
    "## import train and test data for Classification"
   ]
  },
  {
   "cell_type": "markdown",
   "metadata": {
    "id": "QhnnO1neQM4u"
   },
   "source": [
    "**References**:\n",
    "\n",
    "\n",
    "*   Computing Platforms: Set up the Workspace for Machine Learning Projects.  https://ms.pubpub.org/pub/computing\n",
    "*  Machine Learning for Predictions. https://ms.pubpub.org/pub/ml-prediction\n",
    "* Machine Learning Packages: https://scikit-learn.org/stable/\n",
    "\n"
   ]
  },
  {
   "cell_type": "markdown",
   "metadata": {
    "id": "5c_zbuzKrklB"
   },
   "source": [
    "# Import and Inspect Data"
   ]
  },
  {
   "cell_type": "markdown",
   "metadata": {
    "id": "X2DL-XqSKlSm"
   },
   "source": [
    "## import packages"
   ]
  },
  {
   "cell_type": "code",
   "execution_count": 69,
   "metadata": {},
   "outputs": [],
   "source": [
    "import pandas as pd\n",
    "import numpy as np\n",
    "import random\n",
    "import matplotlib.pyplot as plt"
   ]
  },
  {
   "cell_type": "code",
   "execution_count": 70,
   "metadata": {
    "id": "zfiwRcaKp9XQ"
   },
   "outputs": [],
   "source": [
    "plt.style.use('classic')\n",
    "random.seed(42)"
   ]
  },
  {
   "cell_type": "code",
   "execution_count": 71,
   "metadata": {
    "id": "AOYgQBQNqARR"
   },
   "outputs": [],
   "source": [
    "\n",
    "C_train = pd.read_csv(\"df3_C_train.csv\", index_col=\"Unnamed: 0\")\n",
    "C_test = pd.read_csv(\"df3_C_test.csv\",index_col=\"Unnamed: 0\")"
   ]
  },
  {
   "cell_type": "code",
   "execution_count": 72,
   "metadata": {
    "colab": {
     "base_uri": "https://localhost:8080/"
    },
    "id": "h1eD1ljxrCoK",
    "outputId": "288490cd-edcb-4821-8dd3-488068413435"
   },
   "outputs": [
    {
     "data": {
      "text/plain": [
       "scongested    0\n",
       "iyoy          1\n",
       "dtype: int64"
      ]
     },
     "execution_count": 72,
     "metadata": {},
     "output_type": "execute_result"
    }
   ],
   "source": [
    "C_train.isna().sum()"
   ]
  },
  {
   "cell_type": "markdown",
   "metadata": {
    "id": "LRLbQEPEKfmY"
   },
   "source": [
    "## Drop nan for classification Data"
   ]
  },
  {
   "cell_type": "code",
   "execution_count": 73,
   "metadata": {
    "id": "1BbadvAJrD_m"
   },
   "outputs": [],
   "source": [
    "C_train =C_train.dropna()"
   ]
  },
  {
   "cell_type": "code",
   "execution_count": 74,
   "metadata": {
    "colab": {
     "base_uri": "https://localhost:8080/",
     "height": 206
    },
    "id": "dmcVh3m7KLer",
    "outputId": "5bc848ad-c868-4931-9acb-28ca9942c771"
   },
   "outputs": [
    {
     "data": {
      "text/html": [
       "<div>\n",
       "<style scoped>\n",
       "    .dataframe tbody tr th:only-of-type {\n",
       "        vertical-align: middle;\n",
       "    }\n",
       "\n",
       "    .dataframe tbody tr th {\n",
       "        vertical-align: top;\n",
       "    }\n",
       "\n",
       "    .dataframe thead th {\n",
       "        text-align: right;\n",
       "    }\n",
       "</style>\n",
       "<table border=\"1\" class=\"dataframe\">\n",
       "  <thead>\n",
       "    <tr style=\"text-align: right;\">\n",
       "      <th></th>\n",
       "      <th>scongested</th>\n",
       "      <th>iyoy</th>\n",
       "    </tr>\n",
       "  </thead>\n",
       "  <tbody>\n",
       "    <tr>\n",
       "      <th>1</th>\n",
       "      <td>0</td>\n",
       "      <td>0.105477</td>\n",
       "    </tr>\n",
       "    <tr>\n",
       "      <th>2</th>\n",
       "      <td>0</td>\n",
       "      <td>0.074368</td>\n",
       "    </tr>\n",
       "    <tr>\n",
       "      <th>3</th>\n",
       "      <td>0</td>\n",
       "      <td>0.066034</td>\n",
       "    </tr>\n",
       "    <tr>\n",
       "      <th>4</th>\n",
       "      <td>1</td>\n",
       "      <td>0.208247</td>\n",
       "    </tr>\n",
       "    <tr>\n",
       "      <th>5</th>\n",
       "      <td>1</td>\n",
       "      <td>0.052101</td>\n",
       "    </tr>\n",
       "  </tbody>\n",
       "</table>\n",
       "</div>"
      ],
      "text/plain": [
       "   scongested      iyoy\n",
       "1           0  0.105477\n",
       "2           0  0.074368\n",
       "3           0  0.066034\n",
       "4           1  0.208247\n",
       "5           1  0.052101"
      ]
     },
     "execution_count": 74,
     "metadata": {},
     "output_type": "execute_result"
    }
   ],
   "source": [
    "C_train.head()"
   ]
  },
  {
   "cell_type": "code",
   "execution_count": 75,
   "metadata": {
    "colab": {
     "base_uri": "https://localhost:8080/"
    },
    "id": "HPBJFY6-KNOg",
    "outputId": "ea2225fd-4ff2-42fd-a611-878d45345053"
   },
   "outputs": [
    {
     "data": {
      "text/plain": [
       "scongested    0\n",
       "iyoy          0\n",
       "dtype: int64"
      ]
     },
     "execution_count": 75,
     "metadata": {},
     "output_type": "execute_result"
    }
   ],
   "source": [
    "C_test.isna().sum()"
   ]
  },
  {
   "cell_type": "markdown",
   "metadata": {
    "id": "n3NJX3N8KXMy"
   },
   "source": [
    "## import train and test data for Regression"
   ]
  },
  {
   "cell_type": "code",
   "execution_count": 76,
   "metadata": {
    "id": "8Ylxg4cQGbf8"
   },
   "outputs": [],
   "source": [
    "\n",
    "R_train = pd.read_csv(\"df3_R_train.csv\", index_col=\"Unnamed: 0\")\n",
    "R_test = pd.read_csv(\"df3_R_test.csv\",index_col=\"Unnamed: 0\")"
   ]
  },
  {
   "cell_type": "markdown",
   "metadata": {
    "id": "WAwsuriLKTHU"
   },
   "source": [
    "## drop nan for Regression Data"
   ]
  },
  {
   "cell_type": "code",
   "execution_count": 77,
   "metadata": {
    "colab": {
     "base_uri": "https://localhost:8080/"
    },
    "id": "DtOp9OFEIt3O",
    "outputId": "3b4d3108-475b-480b-c1a6-9e7183f42788"
   },
   "outputs": [
    {
     "data": {
      "text/plain": [
       "syoy    1\n",
       "iyoy    1\n",
       "dtype: int64"
      ]
     },
     "execution_count": 77,
     "metadata": {},
     "output_type": "execute_result"
    }
   ],
   "source": [
    "R_train.isna().sum()"
   ]
  },
  {
   "cell_type": "code",
   "execution_count": 78,
   "metadata": {
    "id": "riCQic-uJNK1"
   },
   "outputs": [],
   "source": [
    "R_train=R_train.dropna()"
   ]
  },
  {
   "cell_type": "code",
   "execution_count": 79,
   "metadata": {
    "colab": {
     "base_uri": "https://localhost:8080/"
    },
    "id": "WVCj8DzXJQ8V",
    "outputId": "dc83ee05-71ee-44a6-c90f-d7d3c6ebccff"
   },
   "outputs": [
    {
     "data": {
      "text/plain": [
       "syoy    0\n",
       "iyoy    0\n",
       "dtype: int64"
      ]
     },
     "execution_count": 79,
     "metadata": {},
     "output_type": "execute_result"
    }
   ],
   "source": [
    "R_test.isna().sum()"
   ]
  },
  {
   "cell_type": "code",
   "execution_count": 80,
   "metadata": {
    "colab": {
     "base_uri": "https://localhost:8080/",
     "height": 206
    },
    "id": "DDoXkqbpG4Zg",
    "outputId": "2e867ce2-953c-4d08-b402-9a7fa2e53b99"
   },
   "outputs": [
    {
     "data": {
      "text/html": [
       "<div>\n",
       "<style scoped>\n",
       "    .dataframe tbody tr th:only-of-type {\n",
       "        vertical-align: middle;\n",
       "    }\n",
       "\n",
       "    .dataframe tbody tr th {\n",
       "        vertical-align: top;\n",
       "    }\n",
       "\n",
       "    .dataframe thead th {\n",
       "        text-align: right;\n",
       "    }\n",
       "</style>\n",
       "<table border=\"1\" class=\"dataframe\">\n",
       "  <thead>\n",
       "    <tr style=\"text-align: right;\">\n",
       "      <th></th>\n",
       "      <th>syoy</th>\n",
       "      <th>iyoy</th>\n",
       "    </tr>\n",
       "  </thead>\n",
       "  <tbody>\n",
       "    <tr>\n",
       "      <th>1</th>\n",
       "      <td>-1.726983</td>\n",
       "      <td>0.105477</td>\n",
       "    </tr>\n",
       "    <tr>\n",
       "      <th>2</th>\n",
       "      <td>-0.149997</td>\n",
       "      <td>0.074368</td>\n",
       "    </tr>\n",
       "    <tr>\n",
       "      <th>3</th>\n",
       "      <td>-0.885127</td>\n",
       "      <td>0.066034</td>\n",
       "    </tr>\n",
       "    <tr>\n",
       "      <th>4</th>\n",
       "      <td>1.687325</td>\n",
       "      <td>0.208247</td>\n",
       "    </tr>\n",
       "    <tr>\n",
       "      <th>5</th>\n",
       "      <td>0.693305</td>\n",
       "      <td>0.052101</td>\n",
       "    </tr>\n",
       "  </tbody>\n",
       "</table>\n",
       "</div>"
      ],
      "text/plain": [
       "       syoy      iyoy\n",
       "1 -1.726983  0.105477\n",
       "2 -0.149997  0.074368\n",
       "3 -0.885127  0.066034\n",
       "4  1.687325  0.208247\n",
       "5  0.693305  0.052101"
      ]
     },
     "execution_count": 80,
     "metadata": {},
     "output_type": "execute_result"
    }
   ],
   "source": [
    "R_train.head()"
   ]
  },
  {
   "cell_type": "code",
   "execution_count": 81,
   "metadata": {
    "colab": {
     "base_uri": "https://localhost:8080/",
     "height": 206
    },
    "id": "LIkJD83AG63N",
    "outputId": "3a537c9a-1482-4c3c-e4f1-9ee09904a436"
   },
   "outputs": [
    {
     "data": {
      "text/html": [
       "<div>\n",
       "<style scoped>\n",
       "    .dataframe tbody tr th:only-of-type {\n",
       "        vertical-align: middle;\n",
       "    }\n",
       "\n",
       "    .dataframe tbody tr th {\n",
       "        vertical-align: top;\n",
       "    }\n",
       "\n",
       "    .dataframe thead th {\n",
       "        text-align: right;\n",
       "    }\n",
       "</style>\n",
       "<table border=\"1\" class=\"dataframe\">\n",
       "  <thead>\n",
       "    <tr style=\"text-align: right;\">\n",
       "      <th></th>\n",
       "      <th>syoy</th>\n",
       "      <th>iyoy</th>\n",
       "    </tr>\n",
       "  </thead>\n",
       "  <tbody>\n",
       "    <tr>\n",
       "      <th>35</th>\n",
       "      <td>-1.465948</td>\n",
       "      <td>-0.367052</td>\n",
       "    </tr>\n",
       "    <tr>\n",
       "      <th>36</th>\n",
       "      <td>-1.047838</td>\n",
       "      <td>-0.636539</td>\n",
       "    </tr>\n",
       "    <tr>\n",
       "      <th>37</th>\n",
       "      <td>0.171117</td>\n",
       "      <td>-0.206509</td>\n",
       "    </tr>\n",
       "    <tr>\n",
       "      <th>38</th>\n",
       "      <td>-0.190077</td>\n",
       "      <td>0.344773</td>\n",
       "    </tr>\n",
       "    <tr>\n",
       "      <th>39</th>\n",
       "      <td>-0.960884</td>\n",
       "      <td>-0.383187</td>\n",
       "    </tr>\n",
       "  </tbody>\n",
       "</table>\n",
       "</div>"
      ],
      "text/plain": [
       "        syoy      iyoy\n",
       "35 -1.465948 -0.367052\n",
       "36 -1.047838 -0.636539\n",
       "37  0.171117 -0.206509\n",
       "38 -0.190077  0.344773\n",
       "39 -0.960884 -0.383187"
      ]
     },
     "execution_count": 81,
     "metadata": {},
     "output_type": "execute_result"
    }
   ],
   "source": [
    "R_test.head()"
   ]
  },
  {
   "cell_type": "markdown",
   "metadata": {
    "id": "wZk_s_IXcXTg"
   },
   "source": [
    "# Machine Learning Classifier"
   ]
  },
  {
   "cell_type": "markdown",
   "metadata": {
    "id": "S3ysbpu-MPG5"
   },
   "source": [
    "references:\n",
    "\n",
    "\n",
    "*   classification report: https://scikit-learn.org/stable/modules/generated/sklearn.metrics.classification_report.html\n",
    "\n",
    "*   confusion matrix: https://scikit-learn.org/stable/modules/generated/sklearn.metrics.confusion_matrix.html\n",
    "\n",
    "\n",
    "*   ROC AUC: \n",
    " * https://developers.google.com/machine-learning/crash-course/classification/check-your-understanding-roc-and-auc\n",
    " * https://scikit-learn.org/stable/modules/generated/sklearn.metrics.roc_curve.html\n",
    "  * https://youtu.be/4jRBRDbJemM\n",
    "\n",
    "\n",
    "\n"
   ]
  },
  {
   "cell_type": "markdown",
   "metadata": {
    "id": "zgRXrLRYhMT5"
   },
   "source": [
    "## Define the Train and Test (X,y)\n"
   ]
  },
  {
   "cell_type": "code",
   "execution_count": 82,
   "metadata": {
    "colab": {
     "base_uri": "https://localhost:8080/",
     "height": 206
    },
    "id": "s9ZAMenXJzJQ",
    "outputId": "ab28fcba-e1a4-494e-a5a4-c58f8b853b35"
   },
   "outputs": [
    {
     "data": {
      "text/html": [
       "<div>\n",
       "<style scoped>\n",
       "    .dataframe tbody tr th:only-of-type {\n",
       "        vertical-align: middle;\n",
       "    }\n",
       "\n",
       "    .dataframe tbody tr th {\n",
       "        vertical-align: top;\n",
       "    }\n",
       "\n",
       "    .dataframe thead th {\n",
       "        text-align: right;\n",
       "    }\n",
       "</style>\n",
       "<table border=\"1\" class=\"dataframe\">\n",
       "  <thead>\n",
       "    <tr style=\"text-align: right;\">\n",
       "      <th></th>\n",
       "      <th>scongested</th>\n",
       "      <th>iyoy</th>\n",
       "    </tr>\n",
       "  </thead>\n",
       "  <tbody>\n",
       "    <tr>\n",
       "      <th>1</th>\n",
       "      <td>0</td>\n",
       "      <td>0.105477</td>\n",
       "    </tr>\n",
       "    <tr>\n",
       "      <th>2</th>\n",
       "      <td>0</td>\n",
       "      <td>0.074368</td>\n",
       "    </tr>\n",
       "    <tr>\n",
       "      <th>3</th>\n",
       "      <td>0</td>\n",
       "      <td>0.066034</td>\n",
       "    </tr>\n",
       "    <tr>\n",
       "      <th>4</th>\n",
       "      <td>1</td>\n",
       "      <td>0.208247</td>\n",
       "    </tr>\n",
       "    <tr>\n",
       "      <th>5</th>\n",
       "      <td>1</td>\n",
       "      <td>0.052101</td>\n",
       "    </tr>\n",
       "  </tbody>\n",
       "</table>\n",
       "</div>"
      ],
      "text/plain": [
       "   scongested      iyoy\n",
       "1           0  0.105477\n",
       "2           0  0.074368\n",
       "3           0  0.066034\n",
       "4           1  0.208247\n",
       "5           1  0.052101"
      ]
     },
     "execution_count": 82,
     "metadata": {},
     "output_type": "execute_result"
    }
   ],
   "source": [
    "C_train.head()"
   ]
  },
  {
   "cell_type": "code",
   "execution_count": 83,
   "metadata": {
    "id": "W60rdzSnJ1kt"
   },
   "outputs": [],
   "source": [
    "x_train = pd.DataFrame(np.array(C_train['iyoy']).astype(float).reshape(-1,1))\n",
    "y_train = pd.DataFrame(C_train['scongested'].astype(int))"
   ]
  },
  {
   "cell_type": "code",
   "execution_count": 84,
   "metadata": {
    "colab": {
     "base_uri": "https://localhost:8080/",
     "height": 206
    },
    "id": "gW544snWKCGP",
    "outputId": "6abe7475-0a23-4ab9-d629-9e8da415056f"
   },
   "outputs": [
    {
     "data": {
      "text/html": [
       "<div>\n",
       "<style scoped>\n",
       "    .dataframe tbody tr th:only-of-type {\n",
       "        vertical-align: middle;\n",
       "    }\n",
       "\n",
       "    .dataframe tbody tr th {\n",
       "        vertical-align: top;\n",
       "    }\n",
       "\n",
       "    .dataframe thead th {\n",
       "        text-align: right;\n",
       "    }\n",
       "</style>\n",
       "<table border=\"1\" class=\"dataframe\">\n",
       "  <thead>\n",
       "    <tr style=\"text-align: right;\">\n",
       "      <th></th>\n",
       "      <th>scongested</th>\n",
       "      <th>iyoy</th>\n",
       "    </tr>\n",
       "  </thead>\n",
       "  <tbody>\n",
       "    <tr>\n",
       "      <th>35</th>\n",
       "      <td>0</td>\n",
       "      <td>-0.367052</td>\n",
       "    </tr>\n",
       "    <tr>\n",
       "      <th>36</th>\n",
       "      <td>0</td>\n",
       "      <td>-0.636539</td>\n",
       "    </tr>\n",
       "    <tr>\n",
       "      <th>37</th>\n",
       "      <td>1</td>\n",
       "      <td>-0.206509</td>\n",
       "    </tr>\n",
       "    <tr>\n",
       "      <th>38</th>\n",
       "      <td>0</td>\n",
       "      <td>0.344773</td>\n",
       "    </tr>\n",
       "    <tr>\n",
       "      <th>39</th>\n",
       "      <td>0</td>\n",
       "      <td>-0.383187</td>\n",
       "    </tr>\n",
       "  </tbody>\n",
       "</table>\n",
       "</div>"
      ],
      "text/plain": [
       "    scongested      iyoy\n",
       "35           0 -0.367052\n",
       "36           0 -0.636539\n",
       "37           1 -0.206509\n",
       "38           0  0.344773\n",
       "39           0 -0.383187"
      ]
     },
     "execution_count": 84,
     "metadata": {},
     "output_type": "execute_result"
    }
   ],
   "source": [
    "C_test.head()"
   ]
  },
  {
   "cell_type": "code",
   "execution_count": 85,
   "metadata": {
    "id": "PpHVyrntKF4E"
   },
   "outputs": [],
   "source": [
    "x_test = pd.DataFrame(np.array(C_test['iyoy']).astype(float).reshape(-1,1))\n",
    "y_test = pd.DataFrame(C_test['scongested'].astype(int))"
   ]
  },
  {
   "cell_type": "markdown",
   "metadata": {
    "id": "52HThGzyLMYz"
   },
   "source": [
    "## Import base packages"
   ]
  },
  {
   "cell_type": "code",
   "execution_count": 86,
   "metadata": {
    "id": "AXpkffx6LKjF"
   },
   "outputs": [],
   "source": [
    "from sklearn.base import BaseEstimator\n",
    "from sklearn.metrics import classification_report\n",
    "import matplotlib.pyplot as plt\n",
    "from sklearn.metrics import plot_confusion_matrix\n",
    "from sklearn.metrics import plot_roc_curve"
   ]
  },
  {
   "cell_type": "markdown",
   "metadata": {
    "id": "ZPbKvidihU9q"
   },
   "source": [
    "## Decision Tree Classifer"
   ]
  },
  {
   "cell_type": "markdown",
   "metadata": {
    "id": "D5sO_m1ZQ5JS"
   },
   "source": [
    "reference:\n",
    "https://scikit-learn.org/stable/modules/generated/sklearn.tree.DecisionTreeClassifier.html"
   ]
  },
  {
   "cell_type": "markdown",
   "metadata": {
    "id": "Y7geph9Mhx42"
   },
   "source": [
    "### Model"
   ]
  },
  {
   "cell_type": "code",
   "execution_count": 87,
   "metadata": {
    "id": "jP-o7qJXhR9v"
   },
   "outputs": [],
   "source": [
    "from sklearn.tree import DecisionTreeClassifier"
   ]
  },
  {
   "cell_type": "code",
   "execution_count": 88,
   "metadata": {
    "id": "ZN2OpdaGsNfk"
   },
   "outputs": [],
   "source": [
    "mdl = DecisionTreeClassifier().fit(x_train, y_train)"
   ]
  },
  {
   "cell_type": "markdown",
   "metadata": {
    "id": "gGTz99rSjTj3"
   },
   "source": [
    "## Result"
   ]
  },
  {
   "cell_type": "code",
   "execution_count": 89,
   "metadata": {
    "colab": {
     "base_uri": "https://localhost:8080/"
    },
    "id": "Gg8anzpRjM6E",
    "outputId": "83006cd0-0128-4862-da5f-7f40ebaf3e74"
   },
   "outputs": [
    {
     "data": {
      "text/plain": [
       "array([0, 1, 1, 1, 0, 1])"
      ]
     },
     "execution_count": 89,
     "metadata": {},
     "output_type": "execute_result"
    }
   ],
   "source": [
    "y_pred= mdl.predict(x_test)\n",
    "y_pred"
   ]
  },
  {
   "cell_type": "markdown",
   "metadata": {
    "id": "C3iPBZ2Yh9YA"
   },
   "source": [
    "## Evaluations"
   ]
  },
  {
   "cell_type": "code",
   "execution_count": 90,
   "metadata": {
    "colab": {
     "base_uri": "https://localhost:8080/"
    },
    "id": "boA_KLuHH77E",
    "outputId": "f49a4cbf-6a3f-4508-8be5-f57744ee0a54"
   },
   "outputs": [
    {
     "name": "stdout",
     "output_type": "stream",
     "text": [
      "              precision    recall  f1-score   support\n",
      "\n",
      "           0       1.00      0.50      0.67         4\n",
      "           1       0.50      1.00      0.67         2\n",
      "\n",
      "    accuracy                           0.67         6\n",
      "   macro avg       0.75      0.75      0.67         6\n",
      "weighted avg       0.83      0.67      0.67         6\n",
      "\n"
     ]
    }
   ],
   "source": [
    "print(classification_report(y_test, y_pred))"
   ]
  },
  {
   "cell_type": "code",
   "execution_count": 91,
   "metadata": {
    "colab": {
     "base_uri": "https://localhost:8080/",
     "height": 0
    },
    "id": "zt9VNIOQMVts",
    "outputId": "ae3971b3-d762-41ce-dcbd-abe44777541a"
   },
   "outputs": [
    {
     "name": "stderr",
     "output_type": "stream",
     "text": [
      "/home/suny/.local/lib/python3.9/site-packages/sklearn/utils/deprecation.py:87: FutureWarning: Function plot_confusion_matrix is deprecated; Function `plot_confusion_matrix` is deprecated in 1.0 and will be removed in 1.2. Use one of the class methods: ConfusionMatrixDisplay.from_predictions or ConfusionMatrixDisplay.from_estimator.\n",
      "  warnings.warn(msg, category=FutureWarning)\n"
     ]
    },
    {
     "data": {
      "image/png": "[encoded data removed]",
      "text/plain": [
       "<Figure size 640x480 with 2 Axes>"
      ]
     },
     "metadata": {},
     "output_type": "display_data"
    }
   ],
   "source": [
    "plot_confusion_matrix(mdl, x_test, y_test)\n",
    "plt.title('confusion matrix')\n",
    "plt.show()"
   ]
  },
  {
   "cell_type": "code",
   "execution_count": 92,
   "metadata": {
    "colab": {
     "base_uri": "https://localhost:8080/",
     "height": 0
    },
    "id": "TNyOKqKpMYEo",
    "outputId": "0d10a530-45c8-455f-c78c-a0c2ad5b7051"
   },
   "outputs": [
    {
     "name": "stderr",
     "output_type": "stream",
     "text": [
      "/home/suny/.local/lib/python3.9/site-packages/sklearn/utils/deprecation.py:87: FutureWarning: Function plot_roc_curve is deprecated; Function :func:`plot_roc_curve` is deprecated in 1.0 and will be removed in 1.2. Use one of the class methods: :meth:`sklearn.metrics.RocCurveDisplay.from_predictions` or :meth:`sklearn.metrics.RocCurveDisplay.from_estimator`.\n",
      "  warnings.warn(msg, category=FutureWarning)\n"
     ]
    },
    {
     "data": {
      "image/png": "[encoded data removed]",
      "text/plain": [
       "<Figure size 640x480 with 1 Axes>"
      ]
     },
     "metadata": {},
     "output_type": "display_data"
    }
   ],
   "source": [
    "plot_roc_curve(mdl, x_test, y_test)\n",
    "plt.grid()\n",
    "plt.title('ROC Curve')\n",
    "plt.show()"
   ]
  },
  {
   "cell_type": "markdown",
   "metadata": {
    "id": "b1z39IXhMjwQ"
   },
   "source": [
    "## Random Forest Classifier"
   ]
  },
  {
   "cell_type": "markdown",
   "metadata": {
    "id": "v6Om3M43Q_VA"
   },
   "source": [
    "reference:\n",
    "https://scikit-learn.org/stable/modules/generated/sklearn.ensemble.RandomForestClassifier.html"
   ]
  },
  {
   "cell_type": "code",
   "execution_count": 93,
   "metadata": {
    "id": "kR5jR3EwMc_8"
   },
   "outputs": [],
   "source": [
    "from sklearn.ensemble import RandomForestClassifier"
   ]
  },
  {
   "cell_type": "code",
   "execution_count": 94,
   "metadata": {
    "colab": {
     "base_uri": "https://localhost:8080/"
    },
    "id": "6_7TwLUzMoJg",
    "outputId": "c7b9019e-d5b8-4e8d-ba64-178d361f5759"
   },
   "outputs": [
    {
     "name": "stderr",
     "output_type": "stream",
     "text": [
      "/tmp/ipykernel_6009/1062492093.py:1: DataConversionWarning: A column-vector y was passed when a 1d array was expected. Please change the shape of y to (n_samples,), for example using ravel().\n",
      "  mdl = RandomForestClassifier().fit(x_train, y_train)\n"
     ]
    }
   ],
   "source": [
    "mdl = RandomForestClassifier().fit(x_train, y_train)"
   ]
  },
  {
   "cell_type": "code",
   "execution_count": 95,
   "metadata": {
    "colab": {
     "base_uri": "https://localhost:8080/"
    },
    "id": "MvJAu4aPMrEo",
    "outputId": "bcdad64e-d50e-4b89-c8e0-4b70c2309b93"
   },
   "outputs": [
    {
     "name": "stdout",
     "output_type": "stream",
     "text": [
      "              precision    recall  f1-score   support\n",
      "\n",
      "           0       1.00      0.50      0.67         4\n",
      "           1       0.50      1.00      0.67         2\n",
      "\n",
      "    accuracy                           0.67         6\n",
      "   macro avg       0.75      0.75      0.67         6\n",
      "weighted avg       0.83      0.67      0.67         6\n",
      "\n"
     ]
    }
   ],
   "source": [
    "print(classification_report(y_test, mdl.predict(x_test)))"
   ]
  },
  {
   "cell_type": "code",
   "execution_count": 96,
   "metadata": {
    "colab": {
     "base_uri": "https://localhost:8080/",
     "height": 0
    },
    "id": "Uf_ndAUXMxNn",
    "outputId": "560f98bf-8050-4d83-94c0-b973baf597ec"
   },
   "outputs": [
    {
     "name": "stderr",
     "output_type": "stream",
     "text": [
      "/home/suny/.local/lib/python3.9/site-packages/sklearn/utils/deprecation.py:87: FutureWarning: Function plot_confusion_matrix is deprecated; Function `plot_confusion_matrix` is deprecated in 1.0 and will be removed in 1.2. Use one of the class methods: ConfusionMatrixDisplay.from_predictions or ConfusionMatrixDisplay.from_estimator.\n",
      "  warnings.warn(msg, category=FutureWarning)\n"
     ]
    },
    {
     "data": {
      "image/png": "[encoded data removed]",
      "text/plain": [
       "<Figure size 640x480 with 2 Axes>"
      ]
     },
     "metadata": {},
     "output_type": "display_data"
    }
   ],
   "source": [
    "plot_confusion_matrix(mdl, x_test, y_test)\n",
    "plt.title('confusion matrix')\n",
    "plt.show()"
   ]
  },
  {
   "cell_type": "code",
   "execution_count": 97,
   "metadata": {
    "colab": {
     "base_uri": "https://localhost:8080/",
     "height": 0
    },
    "id": "BRIiU_-TMzgN",
    "outputId": "4e57b164-b987-4cc8-a7a4-0e0e881eee8a"
   },
   "outputs": [
    {
     "name": "stderr",
     "output_type": "stream",
     "text": [
      "/home/suny/.local/lib/python3.9/site-packages/sklearn/utils/deprecation.py:87: FutureWarning: Function plot_roc_curve is deprecated; Function :func:`plot_roc_curve` is deprecated in 1.0 and will be removed in 1.2. Use one of the class methods: :meth:`sklearn.metrics.RocCurveDisplay.from_predictions` or :meth:`sklearn.metrics.RocCurveDisplay.from_estimator`.\n",
      "  warnings.warn(msg, category=FutureWarning)\n"
     ]
    },
    {
     "data": {
      "image/png": "[encoded data removed]",
      "text/plain": [
       "<Figure size 640x480 with 1 Axes>"
      ]
     },
     "metadata": {},
     "output_type": "display_data"
    }
   ],
   "source": [
    "plot_roc_curve(mdl, x_test, y_test)\n",
    "plt.grid()\n",
    "plt.title('ROC Curve')\n",
    "plt.show()"
   ]
  },
  {
   "cell_type": "markdown",
   "metadata": {
    "id": "5YPEO1ptM_pO"
   },
   "source": [
    "## Multi-Layer Classifier"
   ]
  },
  {
   "cell_type": "markdown",
   "metadata": {
    "id": "CeL8Pl3ZREgp"
   },
   "source": [
    "reference:\n",
    "https://scikit-learn.org/stable/modules/generated/sklearn.neural_network.MLPClassifier.html"
   ]
  },
  {
   "cell_type": "code",
   "execution_count": 98,
   "metadata": {
    "id": "bDRCALt8M2Ex"
   },
   "outputs": [],
   "source": [
    "from sklearn.neural_network import MLPClassifier"
   ]
  },
  {
   "cell_type": "code",
   "execution_count": 99,
   "metadata": {
    "colab": {
     "base_uri": "https://localhost:8080/"
    },
    "id": "IzjbxKp7NJEs",
    "outputId": "a9d7615e-b6dc-47b8-d532-40f52a3b997e"
   },
   "outputs": [
    {
     "name": "stderr",
     "output_type": "stream",
     "text": [
      "/home/suny/.local/lib/python3.9/site-packages/sklearn/neural_network/_multilayer_perceptron.py:1118: DataConversionWarning: A column-vector y was passed when a 1d array was expected. Please change the shape of y to (n_samples, ), for example using ravel().\n",
      "  y = column_or_1d(y, warn=True)\n"
     ]
    }
   ],
   "source": [
    "mdl = MLPClassifier(hidden_layer_sizes=256).fit(x_train, y_train)"
   ]
  },
  {
   "cell_type": "code",
   "execution_count": 100,
   "metadata": {
    "colab": {
     "base_uri": "https://localhost:8080/"
    },
    "id": "KtKrFVwCNOPQ",
    "outputId": "957ba658-3826-4395-df6d-a93870e23863"
   },
   "outputs": [
    {
     "name": "stdout",
     "output_type": "stream",
     "text": [
      "              precision    recall  f1-score   support\n",
      "\n",
      "           0       0.75      0.75      0.75         4\n",
      "           1       0.50      0.50      0.50         2\n",
      "\n",
      "    accuracy                           0.67         6\n",
      "   macro avg       0.62      0.62      0.62         6\n",
      "weighted avg       0.67      0.67      0.67         6\n",
      "\n"
     ]
    }
   ],
   "source": [
    "print(classification_report(y_test, mdl.predict(x_test)))"
   ]
  },
  {
   "cell_type": "code",
   "execution_count": 101,
   "metadata": {
    "colab": {
     "base_uri": "https://localhost:8080/",
     "height": 526
    },
    "id": "HAutXENGNelY",
    "outputId": "bd5bf476-2029-4982-ee4e-29c9870af689"
   },
   "outputs": [
    {
     "name": "stderr",
     "output_type": "stream",
     "text": [
      "/home/suny/.local/lib/python3.9/site-packages/sklearn/utils/deprecation.py:87: FutureWarning: Function plot_confusion_matrix is deprecated; Function `plot_confusion_matrix` is deprecated in 1.0 and will be removed in 1.2. Use one of the class methods: ConfusionMatrixDisplay.from_predictions or ConfusionMatrixDisplay.from_estimator.\n",
      "  warnings.warn(msg, category=FutureWarning)\n"
     ]
    },
    {
     "data": {
      "image/png": "[encoded data removed]",
      "text/plain": [
       "<Figure size 640x480 with 2 Axes>"
      ]
     },
     "metadata": {},
     "output_type": "display_data"
    }
   ],
   "source": [
    "plot_confusion_matrix(mdl, x_test, y_test)\n",
    "plt.title('confusion matrix')\n",
    "plt.show()"
   ]
  },
  {
   "cell_type": "markdown",
   "metadata": {
    "id": "J6Wm_mm-OKUP"
   },
   "source": [
    "## Auto-ML Classifier"
   ]
  },
  {
   "cell_type": "markdown",
   "metadata": {
    "id": "diEfHwg1RLXK"
   },
   "source": [
    "reference:\n",
    "\n",
    "https://auto.gluon.ai/stable/index.html"
   ]
  },
  {
   "cell_type": "markdown",
   "metadata": {
    "id": "vaTSxqT8TNeh"
   },
   "source": [
    "notes: \n",
    "* please first install the pacakge and restart run time \n",
    "* change runtime type to GPU can accelerate the speed\n",
    "* after you restart the runtime, please mute the code box for package installation\n",
    "\n"
   ]
  },
  {
   "cell_type": "code",
   "execution_count": 102,
   "metadata": {
    "colab": {
     "base_uri": "https://localhost:8080/",
     "height": 1000
    },
    "id": "4V6eh4Q3OOoJ",
    "outputId": "793bb8bb-8226-4a63-d21c-8f8b2a2ed698"
   },
   "outputs": [],
   "source": [
    "# !pip install autogluon"
   ]
  },
  {
   "cell_type": "code",
   "execution_count": 103,
   "metadata": {
    "id": "NcPjkeJENu5C"
   },
   "outputs": [],
   "source": [
    "from autogluon.tabular import TabularDataset, TabularPredictor"
   ]
  },
  {
   "cell_type": "code",
   "execution_count": 104,
   "metadata": {
    "id": "8FeMTI9MOM9A"
   },
   "outputs": [],
   "source": [
    "train_df = pd.DataFrame(x_train)\n",
    "train_df['target'] = y_train.values\n",
    "\n",
    "test_df = pd.DataFrame(x_test)\n",
    "test_df['target'] = y_test.values"
   ]
  },
  {
   "cell_type": "code",
   "execution_count": 105,
   "metadata": {
    "id": "NQIypvvAQh_p"
   },
   "outputs": [],
   "source": [
    "train_data = TabularDataset(train_df)\n",
    "test_data = TabularDataset(test_df)"
   ]
  },
  {
   "cell_type": "code",
   "execution_count": 106,
   "metadata": {
    "colab": {
     "base_uri": "https://localhost:8080/"
    },
    "id": "8L5QJrfCQln0",
    "outputId": "83e135db-9404-46f6-c39a-d67f640881c8"
   },
   "outputs": [
    {
     "name": "stderr",
     "output_type": "stream",
     "text": [
      "Warning: path already exists! This predictor may overwrite an existing predictor! path=\"AutogluonModels/classifier\"\n",
      "Beginning AutoGluon training ...\n",
      "AutoGluon will save models to \"AutogluonModels/classifier/\"\n",
      "AutoGluon Version:  0.6.0\n",
      "Python Version:     3.9.16\n",
      "Operating System:   Linux\n",
      "Platform Machine:   x86_64\n",
      "Platform Version:   #27-Ubuntu SMP PREEMPT_DYNAMIC Wed Nov 23 20:44:15 UTC 2022\n",
      "Train Data Rows:    34\n",
      "Train Data Columns: 1\n",
      "Label Column: target\n",
      "Preprocessing data ...\n",
      "AutoGluon infers your prediction problem is: 'binary' (because only two unique label-values observed).\n",
      "\t2 unique label values:  [0, 1]\n",
      "\tIf 'binary' is not the correct problem_type, please manually specify the problem_type parameter during predictor init (You may specify problem_type as one of: ['binary', 'multiclass', 'regression'])\n",
      "Selected class <--> label mapping:  class 1 = 1, class 0 = 0\n",
      "Using Feature Generators to preprocess the data ...\n",
      "Fitting AutoMLPipelineFeatureGenerator...\n",
      "\tAvailable Memory:                    14506.87 MB\n",
      "\tTrain Data (Original)  Memory Usage: 0.0 MB (0.0% of available memory)\n",
      "\tInferring data type of each feature based on column values. Set feature_metadata_in to manually specify special dtypes of the features.\n",
      "\tStage 1 Generators:\n",
      "\t\tFitting AsTypeFeatureGenerator...\n",
      "\tStage 2 Generators:\n",
      "\t\tFitting FillNaFeatureGenerator...\n",
      "\tStage 3 Generators:\n",
      "\t\tFitting IdentityFeatureGenerator...\n",
      "\tStage 4 Generators:\n",
      "\t\tFitting DropUniqueFeatureGenerator...\n",
      "\tTypes of features in original data (raw dtype, special dtypes):\n",
      "\t\t('float', []) : 1 | ['0']\n",
      "\tTypes of features in processed data (raw dtype, special dtypes):\n",
      "\t\t('float', []) : 1 | ['0']\n",
      "\t0.0s = Fit runtime\n",
      "\t1 features in original data used to generate 1 features in processed data.\n",
      "\tTrain Data (Processed) Memory Usage: 0.0 MB (0.0% of available memory)\n",
      "Data preprocessing and feature engineering runtime = 0.07s ...\n",
      "AutoGluon will gauge predictive performance using evaluation metric: 'accuracy'\n",
      "\tTo change this, specify the eval_metric parameter of Predictor()\n",
      "Automatically generating train/validation split with holdout_frac=0.2, Train Rows: 27, Val Rows: 7\n",
      "Fitting 13 L1 models ...\n",
      "Fitting model: KNeighborsUnif ...\n",
      "\t0.7143\t = Validation score   (accuracy)\n",
      "\t0.02s\t = Training   runtime\n",
      "\t0.02s\t = Validation runtime\n",
      "Fitting model: KNeighborsDist ...\n",
      "\t0.7143\t = Validation score   (accuracy)\n",
      "\t0.02s\t = Training   runtime\n",
      "\t0.03s\t = Validation runtime\n",
      "Fitting model: LightGBMXT ...\n",
      "\t0.5714\t = Validation score   (accuracy)\n",
      "\t0.26s\t = Training   runtime\n",
      "\t0.0s\t = Validation runtime\n",
      "Fitting model: LightGBM ...\n",
      "\t0.5714\t = Validation score   (accuracy)\n",
      "\t0.19s\t = Training   runtime\n",
      "\t0.0s\t = Validation runtime\n",
      "Fitting model: RandomForestGini ...\n",
      "\t0.4286\t = Validation score   (accuracy)\n",
      "\t1.18s\t = Training   runtime\n",
      "\t0.12s\t = Validation runtime\n",
      "Fitting model: RandomForestEntr ...\n",
      "\t0.4286\t = Validation score   (accuracy)\n",
      "\t1.08s\t = Training   runtime\n",
      "\t0.07s\t = Validation runtime\n",
      "Fitting model: CatBoost ...\n",
      "\t0.7143\t = Validation score   (accuracy)\n",
      "\t0.44s\t = Training   runtime\n",
      "\t0.01s\t = Validation runtime\n",
      "Fitting model: ExtraTreesGini ...\n",
      "\t0.5714\t = Validation score   (accuracy)\n",
      "\t1.32s\t = Training   runtime\n",
      "\t0.12s\t = Validation runtime\n",
      "Fitting model: ExtraTreesEntr ...\n",
      "\t0.5714\t = Validation score   (accuracy)\n",
      "\t0.94s\t = Training   runtime\n",
      "\t0.15s\t = Validation runtime\n",
      "Fitting model: NeuralNetFastAI ...\n",
      "No improvement since epoch 0: early stopping\n",
      "\t0.2857\t = Validation score   (accuracy)\n",
      "\t0.8s\t = Training   runtime\n",
      "\t0.04s\t = Validation runtime\n",
      "Fitting model: XGBoost ...\n",
      "\t0.7143\t = Validation score   (accuracy)\n",
      "\t0.23s\t = Training   runtime\n",
      "\t0.01s\t = Validation runtime\n",
      "Fitting model: NeuralNetTorch ...\n",
      "\t0.5714\t = Validation score   (accuracy)\n",
      "\t0.82s\t = Training   runtime\n",
      "\t0.01s\t = Validation runtime\n",
      "Fitting model: LightGBMLarge ...\n",
      "\t0.5714\t = Validation score   (accuracy)\n",
      "\t0.25s\t = Training   runtime\n",
      "\t0.0s\t = Validation runtime\n",
      "Fitting model: WeightedEnsemble_L2 ...\n",
      "\t0.7143\t = Validation score   (accuracy)\n",
      "\t0.51s\t = Training   runtime\n",
      "\t0.0s\t = Validation runtime\n",
      "AutoGluon training complete, total runtime = 9.05s ... Best model: \"WeightedEnsemble_L2\"\n",
      "TabularPredictor saved. To load, use: predictor = TabularPredictor.load(\"AutogluonModels/classifier/\")\n"
     ]
    }
   ],
   "source": [
    "predictor = TabularPredictor(\n",
    "    path='AutogluonModels/classifier',\n",
    "    label='target'\n",
    ").fit(train_data)\n",
    "\n",
    "# predictor = TabularPredictor.load(\"AutogluonModels/classifier/\")"
   ]
  },
  {
   "cell_type": "code",
   "execution_count": 107,
   "metadata": {
    "id": "LK0AOSN2Z21X"
   },
   "outputs": [],
   "source": [
    "predictor = TabularPredictor.load(\"AutogluonModels/classifier/\")"
   ]
  },
  {
   "cell_type": "code",
   "execution_count": 108,
   "metadata": {
    "colab": {
     "base_uri": "https://localhost:8080/",
     "height": 838
    },
    "id": "WNO4QUP5Qnl6",
    "outputId": "c69967a7-6804-41ad-eb9c-07b1bded1279"
   },
   "outputs": [
    {
     "data": {
      "text/html": [
       "<div>\n",
       "<style scoped>\n",
       "    .dataframe tbody tr th:only-of-type {\n",
       "        vertical-align: middle;\n",
       "    }\n",
       "\n",
       "    .dataframe tbody tr th {\n",
       "        vertical-align: top;\n",
       "    }\n",
       "\n",
       "    .dataframe thead th {\n",
       "        text-align: right;\n",
       "    }\n",
       "</style>\n",
       "<table border=\"1\" class=\"dataframe\">\n",
       "  <thead>\n",
       "    <tr style=\"text-align: right;\">\n",
       "      <th></th>\n",
       "      <th>model</th>\n",
       "      <th>score_test</th>\n",
       "      <th>accuracy</th>\n",
       "      <th>precision</th>\n",
       "      <th>recall</th>\n",
       "      <th>f1</th>\n",
       "      <th>score_val</th>\n",
       "      <th>pred_time_test</th>\n",
       "      <th>pred_time_val</th>\n",
       "      <th>fit_time</th>\n",
       "      <th>pred_time_test_marginal</th>\n",
       "      <th>pred_time_val_marginal</th>\n",
       "      <th>fit_time_marginal</th>\n",
       "      <th>stack_level</th>\n",
       "      <th>can_infer</th>\n",
       "      <th>fit_order</th>\n",
       "    </tr>\n",
       "  </thead>\n",
       "  <tbody>\n",
       "    <tr>\n",
       "      <th>0</th>\n",
       "      <td>KNeighborsDist</td>\n",
       "      <td>0.833333</td>\n",
       "      <td>0.833333</td>\n",
       "      <td>0.666667</td>\n",
       "      <td>1.0</td>\n",
       "      <td>0.800000</td>\n",
       "      <td>0.714286</td>\n",
       "      <td>0.005564</td>\n",
       "      <td>0.025411</td>\n",
       "      <td>0.016036</td>\n",
       "      <td>0.005564</td>\n",
       "      <td>0.025411</td>\n",
       "      <td>0.016036</td>\n",
       "      <td>1</td>\n",
       "      <td>True</td>\n",
       "      <td>2</td>\n",
       "    </tr>\n",
       "    <tr>\n",
       "      <th>1</th>\n",
       "      <td>NeuralNetTorch</td>\n",
       "      <td>0.833333</td>\n",
       "      <td>0.833333</td>\n",
       "      <td>0.666667</td>\n",
       "      <td>1.0</td>\n",
       "      <td>0.800000</td>\n",
       "      <td>0.571429</td>\n",
       "      <td>0.022296</td>\n",
       "      <td>0.009413</td>\n",
       "      <td>0.824523</td>\n",
       "      <td>0.022296</td>\n",
       "      <td>0.009413</td>\n",
       "      <td>0.824523</td>\n",
       "      <td>1</td>\n",
       "      <td>True</td>\n",
       "      <td>12</td>\n",
       "    </tr>\n",
       "    <tr>\n",
       "      <th>2</th>\n",
       "      <td>CatBoost</td>\n",
       "      <td>0.666667</td>\n",
       "      <td>0.666667</td>\n",
       "      <td>0.500000</td>\n",
       "      <td>0.5</td>\n",
       "      <td>0.500000</td>\n",
       "      <td>0.714286</td>\n",
       "      <td>0.007601</td>\n",
       "      <td>0.011801</td>\n",
       "      <td>0.441560</td>\n",
       "      <td>0.007601</td>\n",
       "      <td>0.011801</td>\n",
       "      <td>0.441560</td>\n",
       "      <td>1</td>\n",
       "      <td>True</td>\n",
       "      <td>7</td>\n",
       "    </tr>\n",
       "    <tr>\n",
       "      <th>3</th>\n",
       "      <td>KNeighborsUnif</td>\n",
       "      <td>0.666667</td>\n",
       "      <td>0.666667</td>\n",
       "      <td>0.500000</td>\n",
       "      <td>0.5</td>\n",
       "      <td>0.500000</td>\n",
       "      <td>0.714286</td>\n",
       "      <td>0.008955</td>\n",
       "      <td>0.017835</td>\n",
       "      <td>0.016486</td>\n",
       "      <td>0.008955</td>\n",
       "      <td>0.017835</td>\n",
       "      <td>0.016486</td>\n",
       "      <td>1</td>\n",
       "      <td>True</td>\n",
       "      <td>1</td>\n",
       "    </tr>\n",
       "    <tr>\n",
       "      <th>4</th>\n",
       "      <td>WeightedEnsemble_L2</td>\n",
       "      <td>0.666667</td>\n",
       "      <td>0.666667</td>\n",
       "      <td>0.500000</td>\n",
       "      <td>0.5</td>\n",
       "      <td>0.500000</td>\n",
       "      <td>0.714286</td>\n",
       "      <td>0.011455</td>\n",
       "      <td>0.018583</td>\n",
       "      <td>0.529079</td>\n",
       "      <td>0.002500</td>\n",
       "      <td>0.000748</td>\n",
       "      <td>0.512593</td>\n",
       "      <td>2</td>\n",
       "      <td>True</td>\n",
       "      <td>14</td>\n",
       "    </tr>\n",
       "    <tr>\n",
       "      <th>5</th>\n",
       "      <td>XGBoost</td>\n",
       "      <td>0.666667</td>\n",
       "      <td>0.666667</td>\n",
       "      <td>0.500000</td>\n",
       "      <td>0.5</td>\n",
       "      <td>0.500000</td>\n",
       "      <td>0.714286</td>\n",
       "      <td>0.048571</td>\n",
       "      <td>0.006306</td>\n",
       "      <td>0.225610</td>\n",
       "      <td>0.048571</td>\n",
       "      <td>0.006306</td>\n",
       "      <td>0.225610</td>\n",
       "      <td>1</td>\n",
       "      <td>True</td>\n",
       "      <td>11</td>\n",
       "    </tr>\n",
       "    <tr>\n",
       "      <th>6</th>\n",
       "      <td>RandomForestEntr</td>\n",
       "      <td>0.666667</td>\n",
       "      <td>0.666667</td>\n",
       "      <td>0.500000</td>\n",
       "      <td>1.0</td>\n",
       "      <td>0.666667</td>\n",
       "      <td>0.428571</td>\n",
       "      <td>0.069127</td>\n",
       "      <td>0.073150</td>\n",
       "      <td>1.082556</td>\n",
       "      <td>0.069127</td>\n",
       "      <td>0.073150</td>\n",
       "      <td>1.082556</td>\n",
       "      <td>1</td>\n",
       "      <td>True</td>\n",
       "      <td>6</td>\n",
       "    </tr>\n",
       "    <tr>\n",
       "      <th>7</th>\n",
       "      <td>RandomForestGini</td>\n",
       "      <td>0.666667</td>\n",
       "      <td>0.666667</td>\n",
       "      <td>0.500000</td>\n",
       "      <td>1.0</td>\n",
       "      <td>0.666667</td>\n",
       "      <td>0.428571</td>\n",
       "      <td>0.072415</td>\n",
       "      <td>0.116381</td>\n",
       "      <td>1.175136</td>\n",
       "      <td>0.072415</td>\n",
       "      <td>0.116381</td>\n",
       "      <td>1.175136</td>\n",
       "      <td>1</td>\n",
       "      <td>True</td>\n",
       "      <td>5</td>\n",
       "    </tr>\n",
       "    <tr>\n",
       "      <th>8</th>\n",
       "      <td>ExtraTreesEntr</td>\n",
       "      <td>0.666667</td>\n",
       "      <td>0.666667</td>\n",
       "      <td>0.500000</td>\n",
       "      <td>1.0</td>\n",
       "      <td>0.666667</td>\n",
       "      <td>0.571429</td>\n",
       "      <td>0.074413</td>\n",
       "      <td>0.152969</td>\n",
       "      <td>0.944077</td>\n",
       "      <td>0.074413</td>\n",
       "      <td>0.152969</td>\n",
       "      <td>0.944077</td>\n",
       "      <td>1</td>\n",
       "      <td>True</td>\n",
       "      <td>9</td>\n",
       "    </tr>\n",
       "    <tr>\n",
       "      <th>9</th>\n",
       "      <td>ExtraTreesGini</td>\n",
       "      <td>0.666667</td>\n",
       "      <td>0.666667</td>\n",
       "      <td>0.500000</td>\n",
       "      <td>1.0</td>\n",
       "      <td>0.666667</td>\n",
       "      <td>0.571429</td>\n",
       "      <td>0.075419</td>\n",
       "      <td>0.118058</td>\n",
       "      <td>1.324081</td>\n",
       "      <td>0.075419</td>\n",
       "      <td>0.118058</td>\n",
       "      <td>1.324081</td>\n",
       "      <td>1</td>\n",
       "      <td>True</td>\n",
       "      <td>8</td>\n",
       "    </tr>\n",
       "    <tr>\n",
       "      <th>10</th>\n",
       "      <td>LightGBMLarge</td>\n",
       "      <td>0.333333</td>\n",
       "      <td>0.333333</td>\n",
       "      <td>0.333333</td>\n",
       "      <td>1.0</td>\n",
       "      <td>0.500000</td>\n",
       "      <td>0.571429</td>\n",
       "      <td>0.010272</td>\n",
       "      <td>0.001387</td>\n",
       "      <td>0.245101</td>\n",
       "      <td>0.010272</td>\n",
       "      <td>0.001387</td>\n",
       "      <td>0.245101</td>\n",
       "      <td>1</td>\n",
       "      <td>True</td>\n",
       "      <td>13</td>\n",
       "    </tr>\n",
       "    <tr>\n",
       "      <th>11</th>\n",
       "      <td>NeuralNetFastAI</td>\n",
       "      <td>0.333333</td>\n",
       "      <td>0.333333</td>\n",
       "      <td>0.333333</td>\n",
       "      <td>1.0</td>\n",
       "      <td>0.500000</td>\n",
       "      <td>0.285714</td>\n",
       "      <td>0.017082</td>\n",
       "      <td>0.040868</td>\n",
       "      <td>0.797804</td>\n",
       "      <td>0.017082</td>\n",
       "      <td>0.040868</td>\n",
       "      <td>0.797804</td>\n",
       "      <td>1</td>\n",
       "      <td>True</td>\n",
       "      <td>10</td>\n",
       "    </tr>\n",
       "    <tr>\n",
       "      <th>12</th>\n",
       "      <td>LightGBMXT</td>\n",
       "      <td>0.333333</td>\n",
       "      <td>0.333333</td>\n",
       "      <td>0.333333</td>\n",
       "      <td>1.0</td>\n",
       "      <td>0.500000</td>\n",
       "      <td>0.571429</td>\n",
       "      <td>0.041336</td>\n",
       "      <td>0.001313</td>\n",
       "      <td>0.258790</td>\n",
       "      <td>0.041336</td>\n",
       "      <td>0.001313</td>\n",
       "      <td>0.258790</td>\n",
       "      <td>1</td>\n",
       "      <td>True</td>\n",
       "      <td>3</td>\n",
       "    </tr>\n",
       "    <tr>\n",
       "      <th>13</th>\n",
       "      <td>LightGBM</td>\n",
       "      <td>0.333333</td>\n",
       "      <td>0.333333</td>\n",
       "      <td>0.333333</td>\n",
       "      <td>1.0</td>\n",
       "      <td>0.500000</td>\n",
       "      <td>0.571429</td>\n",
       "      <td>0.066410</td>\n",
       "      <td>0.001380</td>\n",
       "      <td>0.193452</td>\n",
       "      <td>0.066410</td>\n",
       "      <td>0.001380</td>\n",
       "      <td>0.193452</td>\n",
       "      <td>1</td>\n",
       "      <td>True</td>\n",
       "      <td>4</td>\n",
       "    </tr>\n",
       "  </tbody>\n",
       "</table>\n",
       "</div>"
      ],
      "text/plain": [
       "                  model  score_test  accuracy  precision  recall        f1  \\\n",
       "0        KNeighborsDist    0.833333  0.833333   0.666667     1.0  0.800000   \n",
       "1        NeuralNetTorch    0.833333  0.833333   0.666667     1.0  0.800000   \n",
       "2              CatBoost    0.666667  0.666667   0.500000     0.5  0.500000   \n",
       "3        KNeighborsUnif    0.666667  0.666667   0.500000     0.5  0.500000   \n",
       "4   WeightedEnsemble_L2    0.666667  0.666667   0.500000     0.5  0.500000   \n",
       "5               XGBoost    0.666667  0.666667   0.500000     0.5  0.500000   \n",
       "6      RandomForestEntr    0.666667  0.666667   0.500000     1.0  0.666667   \n",
       "7      RandomForestGini    0.666667  0.666667   0.500000     1.0  0.666667   \n",
       "8        ExtraTreesEntr    0.666667  0.666667   0.500000     1.0  0.666667   \n",
       "9        ExtraTreesGini    0.666667  0.666667   0.500000     1.0  0.666667   \n",
       "10        LightGBMLarge    0.333333  0.333333   0.333333     1.0  0.500000   \n",
       "11      NeuralNetFastAI    0.333333  0.333333   0.333333     1.0  0.500000   \n",
       "12           LightGBMXT    0.333333  0.333333   0.333333     1.0  0.500000   \n",
       "13             LightGBM    0.333333  0.333333   0.333333     1.0  0.500000   \n",
       "\n",
       "    score_val  pred_time_test  pred_time_val  fit_time  \\\n",
       "0    0.714286        0.005564       0.025411  0.016036   \n",
       "1    0.571429        0.022296       0.009413  0.824523   \n",
       "2    0.714286        0.007601       0.011801  0.441560   \n",
       "3    0.714286        0.008955       0.017835  0.016486   \n",
       "4    0.714286        0.011455       0.018583  0.529079   \n",
       "5    0.714286        0.048571       0.006306  0.225610   \n",
       "6    0.428571        0.069127       0.073150  1.082556   \n",
       "7    0.428571        0.072415       0.116381  1.175136   \n",
       "8    0.571429        0.074413       0.152969  0.944077   \n",
       "9    0.571429        0.075419       0.118058  1.324081   \n",
       "10   0.571429        0.010272       0.001387  0.245101   \n",
       "11   0.285714        0.017082       0.040868  0.797804   \n",
       "12   0.571429        0.041336       0.001313  0.258790   \n",
       "13   0.571429        0.066410       0.001380  0.193452   \n",
       "\n",
       "    pred_time_test_marginal  pred_time_val_marginal  fit_time_marginal  \\\n",
       "0                  0.005564                0.025411           0.016036   \n",
       "1                  0.022296                0.009413           0.824523   \n",
       "2                  0.007601                0.011801           0.441560   \n",
       "3                  0.008955                0.017835           0.016486   \n",
       "4                  0.002500                0.000748           0.512593   \n",
       "5                  0.048571                0.006306           0.225610   \n",
       "6                  0.069127                0.073150           1.082556   \n",
       "7                  0.072415                0.116381           1.175136   \n",
       "8                  0.074413                0.152969           0.944077   \n",
       "9                  0.075419                0.118058           1.324081   \n",
       "10                 0.010272                0.001387           0.245101   \n",
       "11                 0.017082                0.040868           0.797804   \n",
       "12                 0.041336                0.001313           0.258790   \n",
       "13                 0.066410                0.001380           0.193452   \n",
       "\n",
       "    stack_level  can_infer  fit_order  \n",
       "0             1       True          2  \n",
       "1             1       True         12  \n",
       "2             1       True          7  \n",
       "3             1       True          1  \n",
       "4             2       True         14  \n",
       "5             1       True         11  \n",
       "6             1       True          6  \n",
       "7             1       True          5  \n",
       "8             1       True          9  \n",
       "9             1       True          8  \n",
       "10            1       True         13  \n",
       "11            1       True         10  \n",
       "12            1       True          3  \n",
       "13            1       True          4  "
      ]
     },
     "execution_count": 108,
     "metadata": {},
     "output_type": "execute_result"
    }
   ],
   "source": [
    "# reference: https://auto.gluon.ai/stable/cheatsheet.html\n",
    "predictor.leaderboard(silent=True, data=test_data,extra_metrics=['accuracy','precision','recall','acc','f1'])"
   ]
  },
  {
   "cell_type": "markdown",
   "metadata": {
    "id": "6C17ZvIeZ-k8"
   },
   "source": [
    "# Machine Learning Regression"
   ]
  },
  {
   "cell_type": "markdown",
   "metadata": {
    "id": "UyptqNIeYDfs"
   },
   "source": [
    "## important global packages"
   ]
  },
  {
   "cell_type": "code",
   "execution_count": 109,
   "metadata": {
    "id": "BtEJDcDQYCzm"
   },
   "outputs": [],
   "source": [
    "from sklearn.metrics import r2_score"
   ]
  },
  {
   "cell_type": "markdown",
   "metadata": {
    "id": "JfwTlp1ChEfQ"
   },
   "source": [
    "## Define the Train and Test (X, y)"
   ]
  },
  {
   "cell_type": "code",
   "execution_count": 110,
   "metadata": {
    "colab": {
     "base_uri": "https://localhost:8080/",
     "height": 206
    },
    "id": "8T8GGHuhckiO",
    "outputId": "a809a2b0-6c25-47ff-fcb5-8ced80a20409"
   },
   "outputs": [
    {
     "data": {
      "text/html": [
       "<div>\n",
       "<style scoped>\n",
       "    .dataframe tbody tr th:only-of-type {\n",
       "        vertical-align: middle;\n",
       "    }\n",
       "\n",
       "    .dataframe tbody tr th {\n",
       "        vertical-align: top;\n",
       "    }\n",
       "\n",
       "    .dataframe thead th {\n",
       "        text-align: right;\n",
       "    }\n",
       "</style>\n",
       "<table border=\"1\" class=\"dataframe\">\n",
       "  <thead>\n",
       "    <tr style=\"text-align: right;\">\n",
       "      <th></th>\n",
       "      <th>syoy</th>\n",
       "      <th>iyoy</th>\n",
       "    </tr>\n",
       "  </thead>\n",
       "  <tbody>\n",
       "    <tr>\n",
       "      <th>1</th>\n",
       "      <td>-1.726983</td>\n",
       "      <td>0.105477</td>\n",
       "    </tr>\n",
       "    <tr>\n",
       "      <th>2</th>\n",
       "      <td>-0.149997</td>\n",
       "      <td>0.074368</td>\n",
       "    </tr>\n",
       "    <tr>\n",
       "      <th>3</th>\n",
       "      <td>-0.885127</td>\n",
       "      <td>0.066034</td>\n",
       "    </tr>\n",
       "    <tr>\n",
       "      <th>4</th>\n",
       "      <td>1.687325</td>\n",
       "      <td>0.208247</td>\n",
       "    </tr>\n",
       "    <tr>\n",
       "      <th>5</th>\n",
       "      <td>0.693305</td>\n",
       "      <td>0.052101</td>\n",
       "    </tr>\n",
       "  </tbody>\n",
       "</table>\n",
       "</div>"
      ],
      "text/plain": [
       "       syoy      iyoy\n",
       "1 -1.726983  0.105477\n",
       "2 -0.149997  0.074368\n",
       "3 -0.885127  0.066034\n",
       "4  1.687325  0.208247\n",
       "5  0.693305  0.052101"
      ]
     },
     "execution_count": 110,
     "metadata": {},
     "output_type": "execute_result"
    }
   ],
   "source": [
    "R_train.head()"
   ]
  },
  {
   "cell_type": "code",
   "execution_count": 111,
   "metadata": {
    "id": "KM6TuriZb-dR"
   },
   "outputs": [],
   "source": [
    "x_train = pd.DataFrame(R_train['iyoy'])\n",
    "y_train = pd.DataFrame(R_train['syoy'])"
   ]
  },
  {
   "cell_type": "code",
   "execution_count": 112,
   "metadata": {
    "colab": {
     "base_uri": "https://localhost:8080/",
     "height": 206
    },
    "id": "EXAjr3B4cr_O",
    "outputId": "7a7e1fec-b24d-4cc0-97b1-bdb4bbd695b6"
   },
   "outputs": [
    {
     "data": {
      "text/html": [
       "<div>\n",
       "<style scoped>\n",
       "    .dataframe tbody tr th:only-of-type {\n",
       "        vertical-align: middle;\n",
       "    }\n",
       "\n",
       "    .dataframe tbody tr th {\n",
       "        vertical-align: top;\n",
       "    }\n",
       "\n",
       "    .dataframe thead th {\n",
       "        text-align: right;\n",
       "    }\n",
       "</style>\n",
       "<table border=\"1\" class=\"dataframe\">\n",
       "  <thead>\n",
       "    <tr style=\"text-align: right;\">\n",
       "      <th></th>\n",
       "      <th>syoy</th>\n",
       "      <th>iyoy</th>\n",
       "    </tr>\n",
       "  </thead>\n",
       "  <tbody>\n",
       "    <tr>\n",
       "      <th>35</th>\n",
       "      <td>-1.465948</td>\n",
       "      <td>-0.367052</td>\n",
       "    </tr>\n",
       "    <tr>\n",
       "      <th>36</th>\n",
       "      <td>-1.047838</td>\n",
       "      <td>-0.636539</td>\n",
       "    </tr>\n",
       "    <tr>\n",
       "      <th>37</th>\n",
       "      <td>0.171117</td>\n",
       "      <td>-0.206509</td>\n",
       "    </tr>\n",
       "    <tr>\n",
       "      <th>38</th>\n",
       "      <td>-0.190077</td>\n",
       "      <td>0.344773</td>\n",
       "    </tr>\n",
       "    <tr>\n",
       "      <th>39</th>\n",
       "      <td>-0.960884</td>\n",
       "      <td>-0.383187</td>\n",
       "    </tr>\n",
       "  </tbody>\n",
       "</table>\n",
       "</div>"
      ],
      "text/plain": [
       "        syoy      iyoy\n",
       "35 -1.465948 -0.367052\n",
       "36 -1.047838 -0.636539\n",
       "37  0.171117 -0.206509\n",
       "38 -0.190077  0.344773\n",
       "39 -0.960884 -0.383187"
      ]
     },
     "execution_count": 112,
     "metadata": {},
     "output_type": "execute_result"
    }
   ],
   "source": [
    "R_test.head()"
   ]
  },
  {
   "cell_type": "code",
   "execution_count": 113,
   "metadata": {
    "id": "srNlCM2XcuEj"
   },
   "outputs": [],
   "source": [
    "x_test = pd.DataFrame(R_test['iyoy'])\n",
    "y_test = pd.DataFrame(R_test['syoy'])"
   ]
  },
  {
   "cell_type": "markdown",
   "metadata": {
    "id": "BlVbPm9caCuj"
   },
   "source": [
    "## Linear Regression"
   ]
  },
  {
   "cell_type": "code",
   "execution_count": 114,
   "metadata": {
    "id": "XguKfeVGfWTT"
   },
   "outputs": [],
   "source": [
    "from sklearn import linear_model"
   ]
  },
  {
   "cell_type": "code",
   "execution_count": 115,
   "metadata": {
    "id": "kANHWOC9fsed"
   },
   "outputs": [],
   "source": [
    "mdl = linear_model.LinearRegression().fit(x_train,y_train)"
   ]
  },
  {
   "cell_type": "code",
   "execution_count": 116,
   "metadata": {
    "colab": {
     "base_uri": "https://localhost:8080/"
    },
    "id": "AnOF2JWjf5JA",
    "outputId": "7c21434d-220d-41ac-8402-f515094e9d51"
   },
   "outputs": [
    {
     "name": "stdout",
     "output_type": "stream",
     "text": [
      "R2 Score: -0.43581102908671765\n"
     ]
    }
   ],
   "source": [
    "r2 = r2_score(y_test, mdl.predict(x_test))\n",
    "print(f'R2 Score: {r2}')\n"
   ]
  },
  {
   "cell_type": "code",
   "execution_count": 117,
   "metadata": {
    "colab": {
     "base_uri": "https://localhost:8080/",
     "height": 424
    },
    "id": "YW5u-0KUZjkV",
    "outputId": "addbc7c5-bea2-42cc-d90b-b2e695f87de6"
   },
   "outputs": [
    {
     "data": {
      "text/html": [
       "<div>\n",
       "<style scoped>\n",
       "    .dataframe tbody tr th:only-of-type {\n",
       "        vertical-align: middle;\n",
       "    }\n",
       "\n",
       "    .dataframe tbody tr th {\n",
       "        vertical-align: top;\n",
       "    }\n",
       "\n",
       "    .dataframe thead th {\n",
       "        text-align: right;\n",
       "    }\n",
       "</style>\n",
       "<table border=\"1\" class=\"dataframe\">\n",
       "  <thead>\n",
       "    <tr style=\"text-align: right;\">\n",
       "      <th></th>\n",
       "      <th>y_pred</th>\n",
       "    </tr>\n",
       "  </thead>\n",
       "  <tbody>\n",
       "    <tr>\n",
       "      <th>0</th>\n",
       "      <td>0.077103</td>\n",
       "    </tr>\n",
       "    <tr>\n",
       "      <th>1</th>\n",
       "      <td>-0.094239</td>\n",
       "    </tr>\n",
       "    <tr>\n",
       "      <th>2</th>\n",
       "      <td>0.179177</td>\n",
       "    </tr>\n",
       "    <tr>\n",
       "      <th>3</th>\n",
       "      <td>0.529685</td>\n",
       "    </tr>\n",
       "    <tr>\n",
       "      <th>4</th>\n",
       "      <td>0.066845</td>\n",
       "    </tr>\n",
       "    <tr>\n",
       "      <th>5</th>\n",
       "      <td>0.572724</td>\n",
       "    </tr>\n",
       "  </tbody>\n",
       "</table>\n",
       "</div>"
      ],
      "text/plain": [
       "     y_pred\n",
       "0  0.077103\n",
       "1 -0.094239\n",
       "2  0.179177\n",
       "3  0.529685\n",
       "4  0.066845\n",
       "5  0.572724"
      ]
     },
     "execution_count": 117,
     "metadata": {},
     "output_type": "execute_result"
    }
   ],
   "source": [
    "y_pred = pd.DataFrame(np.array(mdl.predict(x_test)).astype(float),columns=['y_pred'])\n",
    "y_pred"
   ]
  },
  {
   "cell_type": "code",
   "execution_count": 118,
   "metadata": {
    "colab": {
     "base_uri": "https://localhost:8080/",
     "height": 452
    },
    "id": "QQ13E55cYyZS",
    "outputId": "141eb852-ad81-4022-94c1-2931b64760f6"
   },
   "outputs": [
    {
     "name": "stderr",
     "output_type": "stream",
     "text": [
      "/tmp/ipykernel_6009/3084031857.py:7: UserWarning: Matplotlib is currently using module://matplotlib_inline.backend_inline, which is a non-GUI backend, so cannot show the figure.\n",
      "  fig.show()\n"
     ]
    },
    {
     "data": {
      "image/png": "[encoded data removed]",
      "text/plain": [
       "<Figure size 640x480 with 1 Axes>"
      ]
     },
     "metadata": {},
     "output_type": "display_data"
    }
   ],
   "source": [
    "fig, ax = plt.subplots()\n",
    "\n",
    "y_test.hist(ax=ax, label='true', alpha=.75)\n",
    "y_pred.hist(ax=ax, label='pred', alpha=.75)\n",
    "\n",
    "ax.legend()\n",
    "fig.show()\n"
   ]
  },
  {
   "cell_type": "markdown",
   "metadata": {
    "id": "DTLXVRHSaAH4"
   },
   "source": [
    "## Random Forest Regression"
   ]
  },
  {
   "cell_type": "code",
   "execution_count": 119,
   "metadata": {
    "id": "vlRjeIEOaMwd"
   },
   "outputs": [],
   "source": [
    "from sklearn.ensemble import RandomForestRegressor"
   ]
  },
  {
   "cell_type": "code",
   "execution_count": 120,
   "metadata": {
    "colab": {
     "base_uri": "https://localhost:8080/"
    },
    "id": "89543Q-3aOcJ",
    "outputId": "e4af096c-8083-4b12-bfb6-d02646c689ae"
   },
   "outputs": [
    {
     "name": "stderr",
     "output_type": "stream",
     "text": [
      "/tmp/ipykernel_6009/3871567223.py:1: DataConversionWarning: A column-vector y was passed when a 1d array was expected. Please change the shape of y to (n_samples,), for example using ravel().\n",
      "  mdl = RandomForestRegressor().fit(x_train, y_train)\n"
     ]
    }
   ],
   "source": [
    "mdl = RandomForestRegressor().fit(x_train, y_train)"
   ]
  },
  {
   "cell_type": "code",
   "execution_count": 121,
   "metadata": {
    "id": "K2Y7vUp4ajA8"
   },
   "outputs": [],
   "source": [
    "# calculate R2\n",
    "from sklearn.metrics import r2_score"
   ]
  },
  {
   "cell_type": "code",
   "execution_count": 122,
   "metadata": {
    "colab": {
     "base_uri": "https://localhost:8080/"
    },
    "id": "i2p7OO23anqM",
    "outputId": "1e2a173d-c89c-4e99-c238-6b6fd1c78f79"
   },
   "outputs": [
    {
     "name": "stdout",
     "output_type": "stream",
     "text": [
      "R2 Score: -0.4321313362595267\n"
     ]
    }
   ],
   "source": [
    "r2 = r2_score(y_test, mdl.predict(x_test))\n",
    "print(f'R2 Score: {r2}')\n"
   ]
  },
  {
   "cell_type": "code",
   "execution_count": 123,
   "metadata": {
    "colab": {
     "base_uri": "https://localhost:8080/",
     "height": 424
    },
    "id": "qshm9IJ8Zs2o",
    "outputId": "49beee94-5095-45c2-8850-1ffab6e1e095"
   },
   "outputs": [
    {
     "data": {
      "text/html": [
       "<div>\n",
       "<style scoped>\n",
       "    .dataframe tbody tr th:only-of-type {\n",
       "        vertical-align: middle;\n",
       "    }\n",
       "\n",
       "    .dataframe tbody tr th {\n",
       "        vertical-align: top;\n",
       "    }\n",
       "\n",
       "    .dataframe thead th {\n",
       "        text-align: right;\n",
       "    }\n",
       "</style>\n",
       "<table border=\"1\" class=\"dataframe\">\n",
       "  <thead>\n",
       "    <tr style=\"text-align: right;\">\n",
       "      <th></th>\n",
       "      <th>y_pred</th>\n",
       "    </tr>\n",
       "  </thead>\n",
       "  <tbody>\n",
       "    <tr>\n",
       "      <th>0</th>\n",
       "      <td>-1.065102</td>\n",
       "    </tr>\n",
       "    <tr>\n",
       "      <th>1</th>\n",
       "      <td>0.189788</td>\n",
       "    </tr>\n",
       "    <tr>\n",
       "      <th>2</th>\n",
       "      <td>-0.220380</td>\n",
       "    </tr>\n",
       "    <tr>\n",
       "      <th>3</th>\n",
       "      <td>1.394652</td>\n",
       "    </tr>\n",
       "    <tr>\n",
       "      <th>4</th>\n",
       "      <td>-1.057434</td>\n",
       "    </tr>\n",
       "    <tr>\n",
       "      <th>5</th>\n",
       "      <td>1.394652</td>\n",
       "    </tr>\n",
       "  </tbody>\n",
       "</table>\n",
       "</div>"
      ],
      "text/plain": [
       "     y_pred\n",
       "0 -1.065102\n",
       "1  0.189788\n",
       "2 -0.220380\n",
       "3  1.394652\n",
       "4 -1.057434\n",
       "5  1.394652"
      ]
     },
     "execution_count": 123,
     "metadata": {},
     "output_type": "execute_result"
    }
   ],
   "source": [
    "y_pred = pd.DataFrame(np.array(mdl.predict(x_test)).astype(float),columns=['y_pred'])\n",
    "y_pred"
   ]
  },
  {
   "cell_type": "code",
   "execution_count": 124,
   "metadata": {
    "colab": {
     "base_uri": "https://localhost:8080/",
     "height": 452
    },
    "id": "PIqFakx6bgxb",
    "outputId": "25309a8a-5e88-48b4-8e60-46cacd60de62"
   },
   "outputs": [
    {
     "name": "stderr",
     "output_type": "stream",
     "text": [
      "/tmp/ipykernel_6009/3084031857.py:7: UserWarning: Matplotlib is currently using module://matplotlib_inline.backend_inline, which is a non-GUI backend, so cannot show the figure.\n",
      "  fig.show()\n"
     ]
    },
    {
     "data": {
      "image/png": "[encoded data removed]",
      "text/plain": [
       "<Figure size 640x480 with 1 Axes>"
      ]
     },
     "metadata": {},
     "output_type": "display_data"
    }
   ],
   "source": [
    "fig, ax = plt.subplots()\n",
    "\n",
    "y_test.hist(ax=ax, label='true', alpha=.75)\n",
    "y_pred.hist(ax=ax, label='pred', alpha=.75)\n",
    "\n",
    "ax.legend()\n",
    "fig.show()\n"
   ]
  },
  {
   "cell_type": "markdown",
   "metadata": {
    "id": "9rBLTHkbaFuw"
   },
   "source": [
    "## Auto-ML"
   ]
  },
  {
   "cell_type": "code",
   "execution_count": 125,
   "metadata": {},
   "outputs": [],
   "source": [
    "train_df = pd.DataFrame(x_train)\n",
    "train_df['target'] = y_train.values\n",
    "\n",
    "test_df = pd.DataFrame(x_test)\n",
    "test_df['target'] = y_test.values"
   ]
  },
  {
   "cell_type": "code",
   "execution_count": 126,
   "metadata": {
    "id": "2Z6jcHBKdvJa"
   },
   "outputs": [],
   "source": [
    "train_data = TabularDataset(train_df)\n",
    "test_data = TabularDataset(test_df)"
   ]
  },
  {
   "cell_type": "code",
   "execution_count": 127,
   "metadata": {
    "colab": {
     "base_uri": "https://localhost:8080/"
    },
    "id": "Nw0YNlwZdzq2",
    "outputId": "a1659b0b-cc38-486a-b620-d9361445dc50"
   },
   "outputs": [
    {
     "name": "stderr",
     "output_type": "stream",
     "text": [
      "Warning: path already exists! This predictor may overwrite an existing predictor! path=\"AutogluonModels/regression/\"\n",
      "Beginning AutoGluon training ...\n",
      "AutoGluon will save models to \"AutogluonModels/regression/\"\n",
      "AutoGluon Version:  0.6.0\n",
      "Python Version:     3.9.16\n",
      "Operating System:   Linux\n",
      "Platform Machine:   x86_64\n",
      "Platform Version:   #27-Ubuntu SMP PREEMPT_DYNAMIC Wed Nov 23 20:44:15 UTC 2022\n",
      "Train Data Rows:    34\n",
      "Train Data Columns: 1\n",
      "Label Column: target\n",
      "Preprocessing data ...\n",
      "AutoGluon infers your prediction problem is: 'regression' (because dtype of label-column == float and many unique label-values observed).\n",
      "\tLabel info (max, min, mean, stddev): (2.961447839999998, -2.1676806799999966, 0.35778, 1.38777)\n",
      "\tIf 'regression' is not the correct problem_type, please manually specify the problem_type parameter during predictor init (You may specify problem_type as one of: ['binary', 'multiclass', 'regression'])\n",
      "Using Feature Generators to preprocess the data ...\n",
      "Fitting AutoMLPipelineFeatureGenerator...\n",
      "\tAvailable Memory:                    14520.4 MB\n",
      "\tTrain Data (Original)  Memory Usage: 0.0 MB (0.0% of available memory)\n",
      "\tInferring data type of each feature based on column values. Set feature_metadata_in to manually specify special dtypes of the features.\n",
      "\tStage 1 Generators:\n",
      "\t\tFitting AsTypeFeatureGenerator...\n",
      "\tStage 2 Generators:\n",
      "\t\tFitting FillNaFeatureGenerator...\n",
      "\tStage 3 Generators:\n",
      "\t\tFitting IdentityFeatureGenerator...\n",
      "\tStage 4 Generators:\n",
      "\t\tFitting DropUniqueFeatureGenerator...\n",
      "\tTypes of features in original data (raw dtype, special dtypes):\n",
      "\t\t('float', []) : 1 | ['iyoy']\n",
      "\tTypes of features in processed data (raw dtype, special dtypes):\n",
      "\t\t('float', []) : 1 | ['iyoy']\n",
      "\t0.0s = Fit runtime\n",
      "\t1 features in original data used to generate 1 features in processed data.\n",
      "\tTrain Data (Processed) Memory Usage: 0.0 MB (0.0% of available memory)\n",
      "Data preprocessing and feature engineering runtime = 0.08s ...\n",
      "AutoGluon will gauge predictive performance using evaluation metric: 'root_mean_squared_error'\n",
      "\tThis metric's sign has been flipped to adhere to being higher_is_better. The metric score can be multiplied by -1 to get the metric value.\n",
      "\tTo change this, specify the eval_metric parameter of Predictor()\n",
      "Automatically generating train/validation split with holdout_frac=0.2, Train Rows: 27, Val Rows: 7\n",
      "Fitting 11 L1 models ...\n",
      "Fitting model: KNeighborsUnif ...\n",
      "\t-0.8935\t = Validation score   (-root_mean_squared_error)\n",
      "\t0.01s\t = Training   runtime\n",
      "\t0.02s\t = Validation runtime\n",
      "Fitting model: KNeighborsDist ...\n",
      "\t-1.5515\t = Validation score   (-root_mean_squared_error)\n",
      "\t0.02s\t = Training   runtime\n",
      "\t0.01s\t = Validation runtime\n",
      "Fitting model: LightGBMXT ...\n",
      "\t-1.3983\t = Validation score   (-root_mean_squared_error)\n",
      "\t0.26s\t = Training   runtime\n",
      "\t0.0s\t = Validation runtime\n",
      "Fitting model: LightGBM ...\n",
      "\t-1.3983\t = Validation score   (-root_mean_squared_error)\n",
      "\t0.43s\t = Training   runtime\n",
      "\t0.0s\t = Validation runtime\n",
      "Fitting model: RandomForestMSE ...\n",
      "\t-1.2542\t = Validation score   (-root_mean_squared_error)\n",
      "\t1.13s\t = Training   runtime\n",
      "\t0.04s\t = Validation runtime\n",
      "Fitting model: CatBoost ...\n",
      "\t-1.0622\t = Validation score   (-root_mean_squared_error)\n",
      "\t0.37s\t = Training   runtime\n",
      "\t0.0s\t = Validation runtime\n",
      "Fitting model: ExtraTreesMSE ...\n",
      "\t-1.2366\t = Validation score   (-root_mean_squared_error)\n",
      "\t0.98s\t = Training   runtime\n",
      "\t0.07s\t = Validation runtime\n",
      "Fitting model: NeuralNetFastAI ...\n",
      "No improvement since epoch 0: early stopping\n",
      "\t-1.373\t = Validation score   (-root_mean_squared_error)\n",
      "\t1.01s\t = Training   runtime\n",
      "\t0.04s\t = Validation runtime\n",
      "Fitting model: XGBoost ...\n",
      "\t-1.1867\t = Validation score   (-root_mean_squared_error)\n",
      "\t0.29s\t = Training   runtime\n",
      "\t0.01s\t = Validation runtime\n",
      "Fitting model: NeuralNetTorch ...\n",
      "\t-1.2195\t = Validation score   (-root_mean_squared_error)\n",
      "\t0.6s\t = Training   runtime\n",
      "\t0.01s\t = Validation runtime\n",
      "Fitting model: LightGBMLarge ...\n",
      "\t-1.0103\t = Validation score   (-root_mean_squared_error)\n",
      "\t0.32s\t = Training   runtime\n",
      "\t0.0s\t = Validation runtime\n",
      "Fitting model: WeightedEnsemble_L2 ...\n",
      "\t-0.8935\t = Validation score   (-root_mean_squared_error)\n",
      "\t0.64s\t = Training   runtime\n",
      "\t0.0s\t = Validation runtime\n",
      "AutoGluon training complete, total runtime = 6.56s ... Best model: \"WeightedEnsemble_L2\"\n",
      "TabularPredictor saved. To load, use: predictor = TabularPredictor.load(\"AutogluonModels/regression/\")\n"
     ]
    }
   ],
   "source": [
    "predictor = TabularPredictor(\n",
    "    path='AutogluonModels/regression/',\n",
    "    label='target'\n",
    ").fit(train_data)"
   ]
  },
  {
   "cell_type": "code",
   "execution_count": 128,
   "metadata": {
    "id": "0wzO-1h-d-vX"
   },
   "outputs": [],
   "source": [
    "predictor = TabularPredictor.load(\"AutogluonModels/regression/\")"
   ]
  },
  {
   "cell_type": "code",
   "execution_count": 129,
   "metadata": {
    "colab": {
     "base_uri": "https://localhost:8080/",
     "height": 490
    },
    "id": "c34jhqW1eHXG",
    "outputId": "f7dab218-2950-4351-c0e0-531791f05c07"
   },
   "outputs": [
    {
     "data": {
      "text/html": [
       "<div>\n",
       "<style scoped>\n",
       "    .dataframe tbody tr th:only-of-type {\n",
       "        vertical-align: middle;\n",
       "    }\n",
       "\n",
       "    .dataframe tbody tr th {\n",
       "        vertical-align: top;\n",
       "    }\n",
       "\n",
       "    .dataframe thead th {\n",
       "        text-align: right;\n",
       "    }\n",
       "</style>\n",
       "<table border=\"1\" class=\"dataframe\">\n",
       "  <thead>\n",
       "    <tr style=\"text-align: right;\">\n",
       "      <th></th>\n",
       "      <th>model</th>\n",
       "      <th>score_test</th>\n",
       "      <th>root_mean_squared_error</th>\n",
       "      <th>mean_squared_error</th>\n",
       "      <th>mean_absolute_error</th>\n",
       "      <th>median_absolute_error</th>\n",
       "      <th>r2</th>\n",
       "      <th>score_val</th>\n",
       "      <th>pred_time_test</th>\n",
       "      <th>pred_time_val</th>\n",
       "      <th>fit_time</th>\n",
       "      <th>pred_time_test_marginal</th>\n",
       "      <th>pred_time_val_marginal</th>\n",
       "      <th>fit_time_marginal</th>\n",
       "      <th>stack_level</th>\n",
       "      <th>can_infer</th>\n",
       "      <th>fit_order</th>\n",
       "    </tr>\n",
       "  </thead>\n",
       "  <tbody>\n",
       "    <tr>\n",
       "      <th>0</th>\n",
       "      <td>KNeighborsUnif</td>\n",
       "      <td>-0.647693</td>\n",
       "      <td>-0.647693</td>\n",
       "      <td>-0.419507</td>\n",
       "      <td>-0.511404</td>\n",
       "      <td>-0.344397</td>\n",
       "      <td>0.259128</td>\n",
       "      <td>-0.893463</td>\n",
       "      <td>0.007123</td>\n",
       "      <td>0.020231</td>\n",
       "      <td>0.008941</td>\n",
       "      <td>0.007123</td>\n",
       "      <td>0.020231</td>\n",
       "      <td>0.008941</td>\n",
       "      <td>1</td>\n",
       "      <td>True</td>\n",
       "      <td>1</td>\n",
       "    </tr>\n",
       "    <tr>\n",
       "      <th>1</th>\n",
       "      <td>WeightedEnsemble_L2</td>\n",
       "      <td>-0.647693</td>\n",
       "      <td>-0.647693</td>\n",
       "      <td>-0.419507</td>\n",
       "      <td>-0.511404</td>\n",
       "      <td>-0.344397</td>\n",
       "      <td>0.259128</td>\n",
       "      <td>-0.893463</td>\n",
       "      <td>0.011132</td>\n",
       "      <td>0.020964</td>\n",
       "      <td>0.653166</td>\n",
       "      <td>0.004009</td>\n",
       "      <td>0.000733</td>\n",
       "      <td>0.644225</td>\n",
       "      <td>2</td>\n",
       "      <td>True</td>\n",
       "      <td>12</td>\n",
       "    </tr>\n",
       "    <tr>\n",
       "      <th>2</th>\n",
       "      <td>LightGBMLarge</td>\n",
       "      <td>-0.670373</td>\n",
       "      <td>-0.670373</td>\n",
       "      <td>-0.449400</td>\n",
       "      <td>-0.586427</td>\n",
       "      <td>-0.494893</td>\n",
       "      <td>0.206334</td>\n",
       "      <td>-1.010268</td>\n",
       "      <td>0.037737</td>\n",
       "      <td>0.001568</td>\n",
       "      <td>0.316115</td>\n",
       "      <td>0.037737</td>\n",
       "      <td>0.001568</td>\n",
       "      <td>0.316115</td>\n",
       "      <td>1</td>\n",
       "      <td>True</td>\n",
       "      <td>11</td>\n",
       "    </tr>\n",
       "    <tr>\n",
       "      <th>3</th>\n",
       "      <td>KNeighborsDist</td>\n",
       "      <td>-0.707727</td>\n",
       "      <td>-0.707727</td>\n",
       "      <td>-0.500877</td>\n",
       "      <td>-0.580550</td>\n",
       "      <td>-0.508119</td>\n",
       "      <td>0.115424</td>\n",
       "      <td>-1.551487</td>\n",
       "      <td>0.006835</td>\n",
       "      <td>0.010546</td>\n",
       "      <td>0.019240</td>\n",
       "      <td>0.006835</td>\n",
       "      <td>0.010546</td>\n",
       "      <td>0.019240</td>\n",
       "      <td>1</td>\n",
       "      <td>True</td>\n",
       "      <td>2</td>\n",
       "    </tr>\n",
       "    <tr>\n",
       "      <th>4</th>\n",
       "      <td>CatBoost</td>\n",
       "      <td>-0.729981</td>\n",
       "      <td>-0.729981</td>\n",
       "      <td>-0.532873</td>\n",
       "      <td>-0.609518</td>\n",
       "      <td>-0.610313</td>\n",
       "      <td>0.058917</td>\n",
       "      <td>-1.062197</td>\n",
       "      <td>0.002606</td>\n",
       "      <td>0.001968</td>\n",
       "      <td>0.365622</td>\n",
       "      <td>0.002606</td>\n",
       "      <td>0.001968</td>\n",
       "      <td>0.365622</td>\n",
       "      <td>1</td>\n",
       "      <td>True</td>\n",
       "      <td>6</td>\n",
       "    </tr>\n",
       "    <tr>\n",
       "      <th>5</th>\n",
       "      <td>ExtraTreesMSE</td>\n",
       "      <td>-0.879403</td>\n",
       "      <td>-0.879403</td>\n",
       "      <td>-0.773350</td>\n",
       "      <td>-0.720852</td>\n",
       "      <td>-0.603522</td>\n",
       "      <td>-0.365780</td>\n",
       "      <td>-1.236576</td>\n",
       "      <td>0.070068</td>\n",
       "      <td>0.066614</td>\n",
       "      <td>0.984782</td>\n",
       "      <td>0.070068</td>\n",
       "      <td>0.066614</td>\n",
       "      <td>0.984782</td>\n",
       "      <td>1</td>\n",
       "      <td>True</td>\n",
       "      <td>7</td>\n",
       "    </tr>\n",
       "    <tr>\n",
       "      <th>6</th>\n",
       "      <td>RandomForestMSE</td>\n",
       "      <td>-0.917058</td>\n",
       "      <td>-0.917058</td>\n",
       "      <td>-0.840996</td>\n",
       "      <td>-0.732099</td>\n",
       "      <td>-0.548509</td>\n",
       "      <td>-0.485246</td>\n",
       "      <td>-1.254242</td>\n",
       "      <td>0.096012</td>\n",
       "      <td>0.044147</td>\n",
       "      <td>1.130419</td>\n",
       "      <td>0.096012</td>\n",
       "      <td>0.044147</td>\n",
       "      <td>1.130419</td>\n",
       "      <td>1</td>\n",
       "      <td>True</td>\n",
       "      <td>5</td>\n",
       "    </tr>\n",
       "    <tr>\n",
       "      <th>7</th>\n",
       "      <td>XGBoost</td>\n",
       "      <td>-0.940118</td>\n",
       "      <td>-0.940118</td>\n",
       "      <td>-0.883821</td>\n",
       "      <td>-0.849646</td>\n",
       "      <td>-0.963081</td>\n",
       "      <td>-0.560878</td>\n",
       "      <td>-1.186664</td>\n",
       "      <td>0.092626</td>\n",
       "      <td>0.006455</td>\n",
       "      <td>0.291616</td>\n",
       "      <td>0.092626</td>\n",
       "      <td>0.006455</td>\n",
       "      <td>0.291616</td>\n",
       "      <td>1</td>\n",
       "      <td>True</td>\n",
       "      <td>9</td>\n",
       "    </tr>\n",
       "    <tr>\n",
       "      <th>8</th>\n",
       "      <td>NeuralNetTorch</td>\n",
       "      <td>-1.010299</td>\n",
       "      <td>-1.010299</td>\n",
       "      <td>-1.020703</td>\n",
       "      <td>-0.854357</td>\n",
       "      <td>-1.081545</td>\n",
       "      <td>-0.802619</td>\n",
       "      <td>-1.219534</td>\n",
       "      <td>0.023148</td>\n",
       "      <td>0.013374</td>\n",
       "      <td>0.601067</td>\n",
       "      <td>0.023148</td>\n",
       "      <td>0.013374</td>\n",
       "      <td>0.601067</td>\n",
       "      <td>1</td>\n",
       "      <td>True</td>\n",
       "      <td>10</td>\n",
       "    </tr>\n",
       "    <tr>\n",
       "      <th>9</th>\n",
       "      <td>LightGBM</td>\n",
       "      <td>-1.061929</td>\n",
       "      <td>-1.061929</td>\n",
       "      <td>-1.127693</td>\n",
       "      <td>-0.884776</td>\n",
       "      <td>-0.857203</td>\n",
       "      <td>-0.991568</td>\n",
       "      <td>-1.398336</td>\n",
       "      <td>0.017634</td>\n",
       "      <td>0.001848</td>\n",
       "      <td>0.428624</td>\n",
       "      <td>0.017634</td>\n",
       "      <td>0.001848</td>\n",
       "      <td>0.428624</td>\n",
       "      <td>1</td>\n",
       "      <td>True</td>\n",
       "      <td>4</td>\n",
       "    </tr>\n",
       "    <tr>\n",
       "      <th>10</th>\n",
       "      <td>LightGBMXT</td>\n",
       "      <td>-1.061929</td>\n",
       "      <td>-1.061929</td>\n",
       "      <td>-1.127693</td>\n",
       "      <td>-0.884776</td>\n",
       "      <td>-0.857203</td>\n",
       "      <td>-0.991568</td>\n",
       "      <td>-1.398336</td>\n",
       "      <td>0.104783</td>\n",
       "      <td>0.001465</td>\n",
       "      <td>0.256690</td>\n",
       "      <td>0.104783</td>\n",
       "      <td>0.001465</td>\n",
       "      <td>0.256690</td>\n",
       "      <td>1</td>\n",
       "      <td>True</td>\n",
       "      <td>3</td>\n",
       "    </tr>\n",
       "    <tr>\n",
       "      <th>11</th>\n",
       "      <td>NeuralNetFastAI</td>\n",
       "      <td>-1.128873</td>\n",
       "      <td>-1.128873</td>\n",
       "      <td>-1.274353</td>\n",
       "      <td>-0.948129</td>\n",
       "      <td>-0.963870</td>\n",
       "      <td>-1.250579</td>\n",
       "      <td>-1.372966</td>\n",
       "      <td>0.018283</td>\n",
       "      <td>0.041013</td>\n",
       "      <td>1.008610</td>\n",
       "      <td>0.018283</td>\n",
       "      <td>0.041013</td>\n",
       "      <td>1.008610</td>\n",
       "      <td>1</td>\n",
       "      <td>True</td>\n",
       "      <td>8</td>\n",
       "    </tr>\n",
       "  </tbody>\n",
       "</table>\n",
       "</div>"
      ],
      "text/plain": [
       "                  model  score_test  root_mean_squared_error  \\\n",
       "0        KNeighborsUnif   -0.647693                -0.647693   \n",
       "1   WeightedEnsemble_L2   -0.647693                -0.647693   \n",
       "2         LightGBMLarge   -0.670373                -0.670373   \n",
       "3        KNeighborsDist   -0.707727                -0.707727   \n",
       "4              CatBoost   -0.729981                -0.729981   \n",
       "5         ExtraTreesMSE   -0.879403                -0.879403   \n",
       "6       RandomForestMSE   -0.917058                -0.917058   \n",
       "7               XGBoost   -0.940118                -0.940118   \n",
       "8        NeuralNetTorch   -1.010299                -1.010299   \n",
       "9              LightGBM   -1.061929                -1.061929   \n",
       "10           LightGBMXT   -1.061929                -1.061929   \n",
       "11      NeuralNetFastAI   -1.128873                -1.128873   \n",
       "\n",
       "    mean_squared_error  mean_absolute_error  median_absolute_error        r2  \\\n",
       "0            -0.419507            -0.511404              -0.344397  0.259128   \n",
       "1            -0.419507            -0.511404              -0.344397  0.259128   \n",
       "2            -0.449400            -0.586427              -0.494893  0.206334   \n",
       "3            -0.500877            -0.580550              -0.508119  0.115424   \n",
       "4            -0.532873            -0.609518              -0.610313  0.058917   \n",
       "5            -0.773350            -0.720852              -0.603522 -0.365780   \n",
       "6            -0.840996            -0.732099              -0.548509 -0.485246   \n",
       "7            -0.883821            -0.849646              -0.963081 -0.560878   \n",
       "8            -1.020703            -0.854357              -1.081545 -0.802619   \n",
       "9            -1.127693            -0.884776              -0.857203 -0.991568   \n",
       "10           -1.127693            -0.884776              -0.857203 -0.991568   \n",
       "11           -1.274353            -0.948129              -0.963870 -1.250579   \n",
       "\n",
       "    score_val  pred_time_test  pred_time_val  fit_time  \\\n",
       "0   -0.893463        0.007123       0.020231  0.008941   \n",
       "1   -0.893463        0.011132       0.020964  0.653166   \n",
       "2   -1.010268        0.037737       0.001568  0.316115   \n",
       "3   -1.551487        0.006835       0.010546  0.019240   \n",
       "4   -1.062197        0.002606       0.001968  0.365622   \n",
       "5   -1.236576        0.070068       0.066614  0.984782   \n",
       "6   -1.254242        0.096012       0.044147  1.130419   \n",
       "7   -1.186664        0.092626       0.006455  0.291616   \n",
       "8   -1.219534        0.023148       0.013374  0.601067   \n",
       "9   -1.398336        0.017634       0.001848  0.428624   \n",
       "10  -1.398336        0.104783       0.001465  0.256690   \n",
       "11  -1.372966        0.018283       0.041013  1.008610   \n",
       "\n",
       "    pred_time_test_marginal  pred_time_val_marginal  fit_time_marginal  \\\n",
       "0                  0.007123                0.020231           0.008941   \n",
       "1                  0.004009                0.000733           0.644225   \n",
       "2                  0.037737                0.001568           0.316115   \n",
       "3                  0.006835                0.010546           0.019240   \n",
       "4                  0.002606                0.001968           0.365622   \n",
       "5                  0.070068                0.066614           0.984782   \n",
       "6                  0.096012                0.044147           1.130419   \n",
       "7                  0.092626                0.006455           0.291616   \n",
       "8                  0.023148                0.013374           0.601067   \n",
       "9                  0.017634                0.001848           0.428624   \n",
       "10                 0.104783                0.001465           0.256690   \n",
       "11                 0.018283                0.041013           1.008610   \n",
       "\n",
       "    stack_level  can_infer  fit_order  \n",
       "0             1       True          1  \n",
       "1             2       True         12  \n",
       "2             1       True         11  \n",
       "3             1       True          2  \n",
       "4             1       True          6  \n",
       "5             1       True          7  \n",
       "6             1       True          5  \n",
       "7             1       True          9  \n",
       "8             1       True         10  \n",
       "9             1       True          4  \n",
       "10            1       True          3  \n",
       "11            1       True          8  "
      ]
     },
     "execution_count": 129,
     "metadata": {},
     "output_type": "execute_result"
    }
   ],
   "source": [
    "# reference: https://auto.gluon.ai/stable/cheatsheet.html\n",
    "# https://auto.gluon.ai/0.3.1/api/autogluon.tabular.models.html\n",
    "predictor.leaderboard(silent=True, data=test_data, extra_metrics=[\"root_mean_squared_error\", \"mean_squared_error\", \"mean_absolute_error\", \"median_absolute_error\", \"r2\"])"
   ]
  },
  {
   "cell_type": "code",
   "execution_count": 130,
   "metadata": {
    "colab": {
     "base_uri": "https://localhost:8080/"
    },
    "id": "_Hiag7doeLei",
    "outputId": "d7dd3a1f-4f00-4f7d-d97e-686afc943dbe"
   },
   "outputs": [
    {
     "name": "stdout",
     "output_type": "stream",
     "text": [
      "R2 Score: 0.2591276024045954\n"
     ]
    }
   ],
   "source": [
    "r2 = r2_score(y_test,\n",
    "              predictor.predict(\n",
    "                  x_test)\n",
    "              )\n",
    "print(f'R2 Score: {r2}')"
   ]
  },
  {
   "cell_type": "code",
   "execution_count": 131,
   "metadata": {
    "colab": {
     "base_uri": "https://localhost:8080/"
    },
    "id": "-r1mncIweC6l",
    "outputId": "002ef7a8-14a8-4f0b-8feb-465de6f1b6dc"
   },
   "outputs": [
    {
     "data": {
      "text/plain": [
       "35   -0.773710\n",
       "36   -0.790076\n",
       "37   -0.019862\n",
       "38    1.119164\n",
       "39   -0.773710\n",
       "40    1.119164\n",
       "Name: target, dtype: float32"
      ]
     },
     "execution_count": 131,
     "metadata": {},
     "output_type": "execute_result"
    }
   ],
   "source": [
    "y_pred = predictor.predict(x_test)\n",
    "y_pred"
   ]
  },
  {
   "cell_type": "code",
   "execution_count": 132,
   "metadata": {
    "colab": {
     "base_uri": "https://localhost:8080/",
     "height": 452
    },
    "id": "aDzAMu95eO2A",
    "outputId": "659bc33d-5658-4a4a-9712-3fb8810f930c"
   },
   "outputs": [
    {
     "name": "stderr",
     "output_type": "stream",
     "text": [
      "/tmp/ipykernel_6009/3084031857.py:7: UserWarning: Matplotlib is currently using module://matplotlib_inline.backend_inline, which is a non-GUI backend, so cannot show the figure.\n",
      "  fig.show()\n"
     ]
    },
    {
     "data": {
      "image/png": "[encoded data removed]",
      "text/plain": [
       "<Figure size 640x480 with 1 Axes>"
      ]
     },
     "metadata": {},
     "output_type": "display_data"
    }
   ],
   "source": [
    "fig, ax = plt.subplots()\n",
    "\n",
    "y_test.hist(ax=ax, label='true', alpha=.75)\n",
    "y_pred.hist(ax=ax, label='pred', alpha=.75)\n",
    "\n",
    "ax.legend()\n",
    "fig.show()\n"
   ]
  }
 ],
 "metadata": {
  "accelerator": "GPU",
  "colab": {
   "machine_shape": "hm",
   "provenance": []
  },
  "gpuClass": "premium",
  "kernelspec": {
   "display_name": "Python 3 (ipykernel)",
   "language": "python",
   "name": "python3"
  },
  "language_info": {
   "codemirror_mode": {
    "name": "ipython",
    "version": 3
   },
   "file_extension": ".py",
   "mimetype": "text/x-python",
   "name": "python",
   "nbconvert_exporter": "python",
   "pygments_lexer": "ipython3",
   "version": "3.9.16"
  }
 },
 "nbformat": 4,
 "nbformat_minor": 1
}
